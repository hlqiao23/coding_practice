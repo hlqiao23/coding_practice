{
 "cells": [
  {
   "cell_type": "markdown",
   "metadata": {},
   "source": [
    "### Part 1\n",
    "\n",
    "Input: a string of AID. always ends with “0” \n",
    "\n",
    "Sample: “18DS012345678987654310AI012345670”\n",
    "\n",
    "requirement: parse the AID from string to list. First two digit number represents the length of following AID.\n",
    "### Part 2\n",
    "\n",
    "Reuse the function from phase 1. Filter the AID with supported AID list.\n",
    "\n",
    "Two inputs: total AIDs, supported AIDs\n",
    "### Part 3\n",
    "\n",
    "Reuse phase 1, Adding one more RID list(RID is substring/prefix of AID) e.g., AI100000\n",
    "\n",
    "Inputs: total AID, supported AID, supported RID.\n",
    "\n",
    "Output all applicable AID."
   ]
  },
  {
   "cell_type": "code",
   "execution_count": 8,
   "metadata": {},
   "outputs": [],
   "source": [
    "def ID_parsing(totalAIDs):\n",
    "\n",
    "    # result list to store the parsed ID\n",
    "    result = []\n",
    "\n",
    "    i = 0\n",
    "    new_id = \"\"\n",
    "    id_length = 0\n",
    "    while i < len(totalAIDs):\n",
    "\n",
    "        id_length = int(totalAIDs[i:i+2])\n",
    "        new_id = totalAIDs[i+2:i+2+id_length]\n",
    "\n",
    "        result.append(new_id)\n",
    "        i += 2+id_length\n",
    "\n",
    "    return result"
   ]
  },
  {
   "cell_type": "code",
   "execution_count": 9,
   "metadata": {},
   "outputs": [
    {
     "name": "stdout",
     "output_type": "stream",
     "text": [
      "['DS0123456789876543', 'AI01234567', '']\n"
     ]
    }
   ],
   "source": [
    "print(ID_parsing(\"18DS012345678987654310AI012345670\"))\n"
   ]
  },
  {
   "cell_type": "code",
   "execution_count": 10,
   "metadata": {},
   "outputs": [],
   "source": [
    "def ID_parsing(totalAIDs, supportedAIDs):\n",
    "\n",
    "    # result list to store the parsed ID\n",
    "    result = []\n",
    "\n",
    "    i = 0\n",
    "    new_id = \"\"\n",
    "    id_length = 0\n",
    "    while i < len(totalAIDs):\n",
    "\n",
    "        id_length = int(totalAIDs[i:i+2])\n",
    "        new_id = totalAIDs[i+2:i+2+id_length]\n",
    "\n",
    "        if new_id in supportedAIDs:\n",
    "            result.append(new_id)\n",
    "        i += 2+id_length\n",
    "\n",
    "    return result"
   ]
  },
  {
   "cell_type": "code",
   "execution_count": 12,
   "metadata": {},
   "outputs": [
    {
     "name": "stdout",
     "output_type": "stream",
     "text": [
      "['AI01234567']\n"
     ]
    }
   ],
   "source": [
    "print(ID_parsing(\"18DS012345678987654310AI012345670\", [\"AI01234567\"]))"
   ]
  },
  {
   "cell_type": "code",
   "execution_count": 15,
   "metadata": {},
   "outputs": [],
   "source": [
    "def ID_parsing(totalAIDs, supportedAIDs, supportedRIDs):\n",
    "\n",
    "    # result list to store the parsed ID\n",
    "    result = []\n",
    "\n",
    "    i = 0\n",
    "    new_id = \"\"\n",
    "    id_length = 0\n",
    "    while i < len(totalAIDs):\n",
    "\n",
    "        id_length = int(totalAIDs[i:i+2])\n",
    "        new_id = totalAIDs[i+2:i+2+id_length]\n",
    "\n",
    "        if new_id in supportedAIDs:\n",
    "            result.append(new_id)\n",
    "        else:\n",
    "            for rid in supportedRIDs:\n",
    "                if rid in new_id:\n",
    "                    result.append(new_id)\n",
    "        i += 2+id_length\n",
    "\n",
    "    return result"
   ]
  },
  {
   "cell_type": "code",
   "execution_count": 16,
   "metadata": {},
   "outputs": [
    {
     "name": "stdout",
     "output_type": "stream",
     "text": [
      "['DS0123456789876543', 'AI01234567']\n"
     ]
    }
   ],
   "source": [
    "print(ID_parsing(\"18DS012345678987654310AI012345670\", [\"AI01234567\"], [\"DS\"]))"
   ]
  },
  {
   "cell_type": "code",
   "execution_count": null,
   "metadata": {},
   "outputs": [],
   "source": []
  }
 ],
 "metadata": {
  "kernelspec": {
   "display_name": "Python 3",
   "language": "python",
   "name": "python3"
  },
  "language_info": {
   "codemirror_mode": {
    "name": "ipython",
    "version": 3
   },
   "file_extension": ".py",
   "mimetype": "text/x-python",
   "name": "python",
   "nbconvert_exporter": "python",
   "pygments_lexer": "ipython3",
   "version": "3.11.6"
  }
 },
 "nbformat": 4,
 "nbformat_minor": 2
}
