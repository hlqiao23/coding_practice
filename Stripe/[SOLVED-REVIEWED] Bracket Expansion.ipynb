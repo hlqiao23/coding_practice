{
 "cells": [
  {
   "cell_type": "markdown",
   "metadata": {},
   "source": [
    "https://www.1point3acres.com/bbs/thread-1088863-1-1.html\n",
    "\n",
    "### Part 1: \n",
    "expand single brace:  prefix {a,c,d}, suffix -> prefixasuffix, prefixcsuffix, prefixdsuffix\n",
    "Example 1:\n",
    "```python\n",
    "Input = \"/2022/{jan,feb,march}/report\"\n",
    "List<String> Output = [\"/2022/jan/report\"\n",
    "   \"/2022/feb/report\"\n",
    "   \"/2022/march/report\"]\n",
    "```"
   ]
  },
  {
   "cell_type": "code",
   "execution_count": null,
   "metadata": {},
   "outputs": [],
   "source": [
    "import re\n",
    "\n",
    "def bracket_expansion_part1(inputString):\n",
    "\n",
    "    ### LOGIC:\n",
    "    # the key is to use regex\n",
    "    # ^(.*?)\\{(.*?)\\}(.*)$\n",
    "    # re.match(pattern, input)\n",
    "\n",
    "    # Pattern\tMeaning\n",
    "    # ^(.*?)\tCaptures everything before { (lazy match).\n",
    "    # \\{(.*?)\\}\tCaptures everything inside {} (lazy match).\n",
    "    # (.*)$\tCaptures everything after } (greedy).\n",
    "    \n",
    "    pattern = r\"^(.*?)\\{(.*?)\\}(.*)$\"\n",
    "\n",
    "    match = re.match(pattern, inputString)\n",
    "\n",
    "    if match:\n",
    "        prefix, tokens, suffix = match.groups()\n",
    "\n",
    "    result_list = []\n",
    "    \n",
    "    for t in tokens.split(','):\n",
    "        result_list.append(prefix+t+suffix)\n",
    "    \n",
    "    return result_list"
   ]
  },
  {
   "cell_type": "code",
   "execution_count": 15,
   "metadata": {},
   "outputs": [
    {
     "name": "stdout",
     "output_type": "stream",
     "text": [
      "['/2022/jan/report', '/2022/feb/report', '/2022/march/report']\n"
     ]
    }
   ],
   "source": [
    "input = \"/2022/{jan,feb,march}/report\"\n",
    "print(bracket_expansion_part1(input))"
   ]
  },
  {
   "cell_type": "markdown",
   "metadata": {},
   "source": [
    "### Part 2: \n",
    "expand single brace with invalid input cases\n",
    "1. If there are less than 2 tokens enclosed within curly braces or \n",
    "2. incorrect expression (eg. opening and closing braces not present, only opening brace present, closing brace present before opening brace etc) \n",
    "\n",
    "return the output same as input\n",
    "\n",
    "Example 1: these patterns do not have enough tokens, so they are not expanded\n",
    "```python\n",
    "Input: pre{mid}suf\n",
    "Output: pre{mid}suf\n",
    "```\n",
    "Example 2:\n",
    "```python\n",
    "Input: pre{}suf\n",
    "Output: pre{}suf\n",
    "```"
   ]
  },
  {
   "cell_type": "code",
   "execution_count": 17,
   "metadata": {},
   "outputs": [],
   "source": [
    "def bracket_expansion_part2(inputString):\n",
    "\n",
    "    # Pattern\tMeaning\n",
    "    # ^(.*?)\tCaptures everything before { (lazy match).\n",
    "    # \\{(.*?)\\}\tCaptures everything inside {} (lazy match).\n",
    "    # (.*)$\tCaptures everything after } (greedy).\n",
    "    \n",
    "    pattern = r\"^(.*?)\\{(.*?)\\}(.*)$\"\n",
    "\n",
    "    match = re.match(pattern, inputString)\n",
    "\n",
    "    if match:\n",
    "        prefix, tokens, suffix = match.groups()\n",
    "    else:\n",
    "        return inputString\n",
    "\n",
    "    result_list = []\n",
    "\n",
    "    if len(tokens.split(',')) < 2:\n",
    "        return inputString\n",
    "    \n",
    "    for t in tokens.split(','):\n",
    "        result_list.append(prefix+t+suffix)\n",
    "    \n",
    "    return result_list"
   ]
  },
  {
   "cell_type": "code",
   "execution_count": 22,
   "metadata": {},
   "outputs": [
    {
     "name": "stdout",
     "output_type": "stream",
     "text": [
      "['/2022/jan/report', '/2022/feb/report', '/2022/march/report']\n",
      "/2022/{jan,feb,march/report\n",
      "/2022/{jan}/report\n",
      "/2022/}jan,feb,march{/report\n",
      "/2022/{}/report\n",
      "['atext', 'btext', 'ctext']\n"
     ]
    }
   ],
   "source": [
    "## part 2 test cases\n",
    "input_data1 = \"/2022/{jan,feb,march}/report\"\n",
    "input_data2 = \"/2022/{jan,feb,march/report\"\n",
    "input_data3 = \"/2022/{jan}/report\"\n",
    "input_data4 = \"/2022/}jan,feb,march{/report\"\n",
    "input_data5 = \"/2022/{}/report\"\n",
    "input_data6 = \"{a,b,c}text\"\n",
    "\n",
    "print(bracket_expansion_part2(input_data1))\n",
    "print(bracket_expansion_part2(input_data2))\n",
    "print(bracket_expansion_part2(input_data3))\n",
    "print(bracket_expansion_part2(input_data4))\n",
    "print(bracket_expansion_part2(input_data5))\n",
    "print(bracket_expansion_part2(input_data6))\n"
   ]
  },
  {
   "cell_type": "markdown",
   "metadata": {},
   "source": [
    "### Part 3: \n",
    "\n",
    "Leetcode 1087"
   ]
  },
  {
   "cell_type": "code",
   "execution_count": null,
   "metadata": {},
   "outputs": [],
   "source": [
    "def bracket_expansion_part3(s):\n",
    "\n",
    "    ### LOGIC:\n",
    "    # the key of parsing is to convert to list of lists [option1, option2, option3], and each option is a list of all choices\n",
    "    # use BACKTRACKING to find all combinations\n",
    "\n",
    "    # convert the input string to list of lists (some options may have multiple letters)\n",
    "    options = []\n",
    "    i = 0\n",
    "\n",
    "    tmp_string = ''\n",
    "    while i < len(s):\n",
    "        # string to go directly as one option\n",
    "        if s[i] != '{':\n",
    "            tmp_string += s[i]\n",
    "\n",
    "        # encounter option with multiple letters\n",
    "        elif s[i] == '{':\n",
    "            # if tmp_string is not empty, record the old tmp_string into options, and start a new one\n",
    "            if tmp_string != '':\n",
    "                options.append([tmp_string])\n",
    "                tmp_string = ''\n",
    "            i += 1 # skip }\n",
    "            while s[i] != '}':\n",
    "                tmp_string += s[i]\n",
    "                i += 1\n",
    "            tmp_options = tmp_string.split(',')\n",
    "            options.append(tmp_options)\n",
    "            tmp_string = ''\n",
    "        \n",
    "        i += 1\n",
    "    print(options)\n",
    "\n",
    "    result_list = []\n",
    "    # use backtracking to construct all possible combinations\n",
    "    def backtrack(index, tmpStr):\n",
    "        # all characters have been used (already reaching the end of options)\n",
    "        if index == len(options):\n",
    "            print(\"found: \", tmpStr)\n",
    "            result_list.append(tmpStr)\n",
    "            return \n",
    "        \n",
    "        for c in options[index]:\n",
    "            print(\"current option: \", c)\n",
    "            prevStr = tmpStr\n",
    "            tmpStr += c\n",
    "            print(\"current string contructed: \", tmpStr)\n",
    "            ## the following recursion is to find all possible combinations of rest options\n",
    "            backtrack(index+1, tmpStr)\n",
    "            # remove current option from tmpStr, so that we can add the other option from same index\n",
    "            tmpStr = prevStr\n",
    "\n",
    "    backtrack(0, '')\n",
    "    return result_list\n",
    "\n",
    "        \n"
   ]
  },
  {
   "cell_type": "code",
   "execution_count": 8,
   "metadata": {},
   "outputs": [
    {
     "name": "stdout",
     "output_type": "stream",
     "text": [
      "[['a', 'b'], ['c'], ['d', 'e']]\n",
      "current option:  a\n",
      "current string contructed:  a\n",
      "current option:  c\n",
      "current string contructed:  ac\n",
      "current option:  d\n",
      "current string contructed:  acd\n",
      "found:  acd\n",
      "current option:  e\n",
      "current string contructed:  ace\n",
      "found:  ace\n",
      "current option:  b\n",
      "current string contructed:  b\n",
      "current option:  c\n",
      "current string contructed:  bc\n",
      "current option:  d\n",
      "current string contructed:  bcd\n",
      "found:  bcd\n",
      "current option:  e\n",
      "current string contructed:  bce\n",
      "found:  bce\n",
      "['acd', 'ace', 'bcd', 'bce']\n"
     ]
    }
   ],
   "source": [
    "input_data1 = '{a,b}c{d,e}f'\n",
    "input_data2 = '2022/{a,b,c}/2023/{d,e,f}'\n",
    "print(bracket_expansion_part3(input_data1))\n",
    "# print(bracket_expansion_part3(input_data2))"
   ]
  },
  {
   "cell_type": "code",
   "execution_count": null,
   "metadata": {},
   "outputs": [],
   "source": []
  }
 ],
 "metadata": {
  "kernelspec": {
   "display_name": "Python 3",
   "language": "python",
   "name": "python3"
  },
  "language_info": {
   "codemirror_mode": {
    "name": "ipython",
    "version": 3
   },
   "file_extension": ".py",
   "mimetype": "text/x-python",
   "name": "python",
   "nbconvert_exporter": "python",
   "pygments_lexer": "ipython3",
   "version": "3.11.6"
  }
 },
 "nbformat": 4,
 "nbformat_minor": 2
}
