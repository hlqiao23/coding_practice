{
 "cells": [
  {
   "cell_type": "markdown",
   "metadata": {},
   "source": [
    "https://www.1point3acres.com/bbs/thread-1078223-1-1.html\n",
    "https://www.1point3acres.com/bbs/thread-1072844-1-1.html\n",
    "https://www.1point3acres.com/bbs/thread-1048313-1-1.html\n",
    "https://www.1point3acres.com/bbs/thread-1088332-1-1.html\n",
    "\n",
    "### Base Question / Part 1:\n",
    "\n",
    "Given a string with currency exchange details. Create methods to retrieve the exchange rate between two currencies. FX can be exchanged in both directions.\n",
    "```python\n",
    "Ex.\n",
    "String\"B\"\n",
    "Request: fx(\"USD\", \"CAD\") -> returns 1.40\n",
    "Request: fx(\"CAD\", \"USD\") -> returns 0.714\n",
    "```"
   ]
  },
  {
   "cell_type": "code",
   "execution_count": 12,
   "metadata": {},
   "outputs": [],
   "source": [
    "def build_currency_conversion(inputString):\n",
    "\n",
    "    conversion_map = {}\n",
    "    for record in inputString.split(\", \"):\n",
    "\n",
    "        if len(record.split(\":\")) == 3:\n",
    "            source, target, rate = record.split(\":\")\n",
    "            rate = float(rate)\n",
    "\n",
    "            # current direction\n",
    "            if source not in conversion_map:\n",
    "                conversion_map[source] = {}\n",
    "            if target not in conversion_map[source]:\n",
    "                conversion_map[source][target] = {}\n",
    "            \n",
    "            conversion_map[source][target] = rate\n",
    "\n",
    "            # reversed direction\n",
    "            if target not in conversion_map:\n",
    "                conversion_map[target] = {}\n",
    "            if source not in conversion_map[target]:\n",
    "                conversion_map[target][source] = {}\n",
    "            \n",
    "            conversion_map[target][source] = 1.0 / rate\n",
    "\n",
    "    return conversion_map\n",
    "\n"
   ]
  },
  {
   "cell_type": "code",
   "execution_count": 32,
   "metadata": {},
   "outputs": [],
   "source": [
    "def currency_conversion_part1(inputString, src, tgt):\n",
    "\n",
    "    conversion_map = build_currency_conversion(inputString)\n",
    "\n",
    "    return conversion_map.get(src, {}).get(tgt, None)"
   ]
  },
  {
   "cell_type": "code",
   "execution_count": 33,
   "metadata": {},
   "outputs": [
    {
     "name": "stdout",
     "output_type": "stream",
     "text": [
      "1.26\n",
      "None\n"
     ]
    }
   ],
   "source": [
    "# part 1 test cases\n",
    "input_data = \"USD:CAD:1.26, USD:AUD:0.75, USD:JPY:109.23\"\n",
    "print(currency_conversion_part1(input_data, 'USD', 'CAD'))\n",
    "print(currency_conversion_part1(input_data, 'USD', 'CHN'))\n"
   ]
  },
  {
   "cell_type": "markdown",
   "metadata": {},
   "source": [
    "### Part 2\n",
    "Provide the exchange rate given with at most 1 intermediate transaction\n",
    "\n",
    "Request: fx(\"USD\", \"JPY\") == fx(\"USD\", \"CAD\") * fx(\"CAD\", \"JPY\") or == 1.40*100-> returns 140"
   ]
  },
  {
   "cell_type": "code",
   "execution_count": 56,
   "metadata": {},
   "outputs": [],
   "source": [
    "def currency_conversion_part2(inputString, src, tgt):\n",
    "    conversion_map = build_currency_conversion(inputString)\n",
    "\n",
    "    result = []\n",
    "\n",
    "    if src not in conversion_map:\n",
    "        return result\n",
    "        \n",
    "    for i, rate in conversion_map[src].items():\n",
    "\n",
    "        # target currency is already found\n",
    "        if i == tgt:\n",
    "            result.append({\"mapping\": src + ':' + tgt, \"rate\": round(rate, 2)})\n",
    "        \n",
    "        # if target currency is in the mapping of intermediate currency\n",
    "        for j, second_rate in conversion_map[i].items():\n",
    "            if j == tgt:\n",
    "                result.append({\"mapping\": src + ':' + i + ':' + tgt, \"rate\": round(rate * second_rate, 2)})\n",
    "\n",
    "    return result"
   ]
  },
  {
   "cell_type": "code",
   "execution_count": 57,
   "metadata": {},
   "outputs": [
    {
     "name": "stdout",
     "output_type": "stream",
     "text": [
      "[{'mapping': 'CAD:USD:JPY', 'rate': 86.69}, {'mapping': 'CAD:JPY', 'rate': 89.0}]\n",
      "[{'mapping': 'JPY:USD:CAD', 'rate': 0.01}, {'mapping': 'JPY:CAD', 'rate': 0.01}]\n"
     ]
    }
   ],
   "source": [
    "# part 2 test cases\n",
    "input_data = \"USD:CAD:1.26, USD:AUD:0.75, USD:JPY:109.23, CAD:JPY:89\"\n",
    "print(currency_conversion_part2(input_data, 'CAD', 'JPY'))\n",
    "print(currency_conversion_part2(input_data, 'JPY', 'CAD'))"
   ]
  },
  {
   "cell_type": "markdown",
   "metadata": {},
   "source": [
    "### Part 3\n",
    "Provide the BEST exchange rate given with at most 1 intermediate transaction\n",
    "\n",
    "Request: fx(\"USD\", \"JPY\") == max(fx(\"USD\", \"CAD\") * fx(\"CAD\", \"JPY\"), fx(\"USD\", \"GBP\") * fx(\"GBP\", \"JPY\")) == max(1.40*100, 0.80*200) -> returns 160"
   ]
  },
  {
   "cell_type": "code",
   "execution_count": 59,
   "metadata": {},
   "outputs": [],
   "source": [
    "def currency_conversion_part3(inputString, src, tgt):\n",
    "    conversion_map = build_currency_conversion(inputString)\n",
    "\n",
    "    result = []\n",
    "    max_rate = 0\n",
    "\n",
    "    if src not in conversion_map:\n",
    "        return result\n",
    "        \n",
    "    for i, rate in conversion_map[src].items():\n",
    "\n",
    "        # target currency is already found\n",
    "        if i == tgt:\n",
    "            result.append({\"mapping\": src + ':' + tgt, \"rate\": round(rate, 2)})\n",
    "            max_rate = rate if rate > max_rate else max_rate\n",
    "        \n",
    "        # if target currency is in the mapping of intermediate currency\n",
    "        for j, second_rate in conversion_map[i].items():\n",
    "            if j == tgt:\n",
    "                result.append({\"mapping\": src + ':' + i + ':' + tgt, \"rate\": round(rate * second_rate, 2)})\n",
    "                max_rate = rate * second_rate if rate * second_rate > max_rate else max_rate\n",
    "\n",
    "    return max_rate"
   ]
  },
  {
   "cell_type": "code",
   "execution_count": 60,
   "metadata": {},
   "outputs": [
    {
     "name": "stdout",
     "output_type": "stream",
     "text": [
      "89.0\n",
      "0.011535292502059874\n"
     ]
    }
   ],
   "source": [
    "# part 3 test cases\n",
    "input_data = \"USD:CAD:1.26, USD:AUD:0.75, USD:JPY:109.23, CAD:JPY:89\"\n",
    "print(currency_conversion_part3(input_data, 'CAD', 'JPY'))\n",
    "print(currency_conversion_part3(input_data, 'JPY', 'CAD'))"
   ]
  },
  {
   "cell_type": "markdown",
   "metadata": {},
   "source": [
    "### Part 4\n",
    "No matter how many intermediate transactions, provide the best exchange rate\n",
    "\n",
    "TODO: the better solution would be using BFS / DFS to solve "
   ]
  },
  {
   "cell_type": "markdown",
   "metadata": {},
   "source": []
  }
 ],
 "metadata": {
  "kernelspec": {
   "display_name": "Python 3",
   "language": "python",
   "name": "python3"
  },
  "language_info": {
   "codemirror_mode": {
    "name": "ipython",
    "version": 3
   },
   "file_extension": ".py",
   "mimetype": "text/x-python",
   "name": "python",
   "nbconvert_exporter": "python",
   "pygments_lexer": "ipython3",
   "version": "3.11.6"
  }
 },
 "nbformat": 4,
 "nbformat_minor": 2
}
