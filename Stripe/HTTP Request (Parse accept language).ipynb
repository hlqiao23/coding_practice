{
 "cells": [
  {
   "cell_type": "markdown",
   "metadata": {},
   "source": [
    "### Part 1\n",
    "In an HTTP request, the Accept-Language header describes the list of languages that the requester would like content to be returned in. The header takes the form of a comma-separated list of language tags. \n",
    "\n",
    "For example:\n",
    "Accept-Language: en-US, fr-CA, fr-FR\n",
    "means that the reader would accept:\n",
    "1. English as spoken in the United States (most preferred)\n",
    "2. French as spoken in Canada\n",
    "3. French as spoken in France (least preferred)\n",
    "\n",
    "We're writing a server that needs to return content in an acceptable language for the requester, and we want to make use of this header. Our server doesn't support every possible language that might be requested (yet!), but there is a set of languages that we do support. Write a function that receives two arguments:\n",
    "1. an Accept-Language header value as a string \n",
    "2. a set of supported languages,\n",
    "and returns the list of language tags that that will work for the request. The language tags should be returned in descending order of preference (the same order as they appeared in the header). In addition to writing this function, you should use tests to demonstrate that it's\n",
    "correct, either via an existing testing system or one you create.\n",
    "\n",
    "```python\n",
    "Examples:\n",
    "parse_accept_language(\n",
    "\"en-US, fr-CA, fr-FR\", # the client's Accept-Language header, a string\n",
    "[\"fr-FR\", \"en-US\"] # the server's supported languages, a set of strings\n",
    ")\n",
    "returns: [\"en-US\", \"fr-FR\"]\n",
    "\n",
    "parse_accept_language(\"fr-CA, fr-FR\", [\"en-US\", \"fr-FR\"])\n",
    "returns: [\"fr-FR\"]\n",
    "\n",
    "parse_accept_language(\"en-US\", [\"en-US\", \"fr-CA\"])\n",
    "returns: [\"en-US\"]\n",
    "```\n"
   ]
  },
  {
   "cell_type": "code",
   "execution_count": 11,
   "metadata": {},
   "outputs": [],
   "source": [
    "def parse_accept_language(accepted, supported):\n",
    "\n",
    "    # split the accepted languages into a list\n",
    "    accepted_list = accepted.split(',')\n",
    "\n",
    "    # remove leading and trailing spaces from each element in the splitted list\n",
    "    accepted_list = [x.strip() for x in accepted_list]\n",
    "\n",
    "    # convert to set to find out the intersection\n",
    "    accepted_set = set(accepted_list)\n",
    "    supported_set = set(supported)\n",
    "\n",
    "    return list(accepted_set.intersection(supported_set))\n"
   ]
  },
  {
   "cell_type": "code",
   "execution_count": 16,
   "metadata": {},
   "outputs": [
    {
     "name": "stdout",
     "output_type": "stream",
     "text": [
      "['en-US', 'fr-FR']\n",
      "['fr-FR']\n",
      "['en-US']\n"
     ]
    }
   ],
   "source": [
    "print(parse_accept_language(\n",
    "\"en-US, fr-CA, fr-FR\", # the client's Accept-Language header, a string\n",
    "[\"fr-FR\", \"en-US\"] # the server's supported languages, a set of strings\n",
    "))\n",
    "print(parse_accept_language(\"fr-CA, fr-FR\", [\"en-US\", \"fr-FR\"]))\n",
    "print(parse_accept_language(\"en-US\", [\"en-US\", \"fr-CA\"]))"
   ]
  },
  {
   "cell_type": "markdown",
   "metadata": {},
   "source": [
    "\n",
    "### Part 2\n",
    "Accept-Language headers will often also include a language tag that is not region-specific - for example, a tag of \"en\" means \"any variant of English\". Extend your function to support these language tags by letting them match all specific variants of the language.\n",
    "```python\n",
    "Examples:\n",
    "parse_accept_language(\"en\", [\"en-US\", \"fr-CA\", \"fr-FR\"])\n",
    "returns: [\"en-US\"]\n",
    "parse_accept_language(\"fr\", [\"en-US\", \"fr-CA\", \"fr-FR\"])\n",
    "returns: [\"fr-CA\", \"fr-FR\"]\n",
    "parse_accept_language(\"fr-FR, fr\", [\"en-US\", \"fr-CA\", \"fr-FR\"])\n",
    "returns: [\"fr-FR\", \"fr-CA\"]\n",
    "```\n"
   ]
  },
  {
   "cell_type": "code",
   "execution_count": null,
   "metadata": {},
   "outputs": [],
   "source": [
    "from collections import defaultdict\n",
    "\n",
    "def parse_accept_language(accepted, supported):\n",
    "\n",
    "    # convert the supported languages to a dict, where key is the language and value is the country\n",
    "    supported_dict = defaultdict(list)\n",
    "    for i in supported:\n",
    "        language, country = i.split('-')\n",
    "        supported_dict[language].append(country)\n",
    "\n",
    "    # convert accepted to list\n",
    "    accepted_list = accepted.split(',')\n",
    "    accepted_list = [x.strip() for x in accepted_list]\n",
    "\n",
    "    result = []\n",
    "\n",
    "    for j in accepted_list:\n",
    "        # if the country is specified, check if the language, country pair is supported\n",
    "        if '-' in j:\n",
    "            language, country = j.split('-')\n",
    "            if language in supported_dict and country in supported_dict[language]:\n",
    "                result.append(j)\n",
    "        # only language is specified\n",
    "        else:\n",
    "            if j in supported_dict:\n",
    "                for k in supported_dict[j]:\n",
    "                    if j+'-'+k not in result:\n",
    "                        result.append(j + '-' + k)\n",
    "\n",
    "    return result\n",
    "\n"
   ]
  },
  {
   "cell_type": "code",
   "execution_count": 46,
   "metadata": {},
   "outputs": [
    {
     "name": "stdout",
     "output_type": "stream",
     "text": [
      "['en-US', 'fr-FR']\n",
      "['fr-FR']\n",
      "['en-US']\n",
      "['en-US']\n",
      "['fr-FR', 'fr-CA']\n",
      "['fr-CA', 'fr-FR']\n"
     ]
    }
   ],
   "source": [
    "## part 1 test cases\n",
    "print(parse_accept_language(\n",
    "\"en-US, fr-CA, fr-FR\", # the client's Accept-Language header, a string\n",
    "[\"fr-FR\", \"en-US\"] # the server's supported languages, a set of strings\n",
    "))\n",
    "print(parse_accept_language(\"fr-CA, fr-FR\", [\"en-US\", \"fr-FR\"]))\n",
    "print(parse_accept_language(\"en-US\", [\"en-US\", \"fr-CA\"]))\n",
    "## part 2 test cases\n",
    "print(parse_accept_language(\"en\", [\"en-US\", \"fr-CA\", \"fr-FR\"]))\n",
    "print(parse_accept_language(\"fr\", [\"en-US\", \"fr-CA\", \"fr-FR\"]))\n",
    "print(parse_accept_language(\"fr-FR, fr\", [\"en-US\", \"fr-CA\", \"fr-FR\"]))"
   ]
  },
  {
   "cell_type": "markdown",
   "metadata": {},
   "source": [
    "### Part 3\n",
    "Accept-Language headers will sometimes include a \"wildcard\" entry, represented by an asterisk, which means \"all other languages\". Extend your function to support the wildcard entry.\n",
    "```python\n",
    "Examples:\n",
    "parse_accept_language(\"en-US, *\", [\"en-US\", \"fr-CA\", \"fr-FR\"])\n",
    "returns: [\"en-US\", \"fr-CA\", \"fr-FR\"]\n",
    "parse_accept_language(\"fr-FR, fr, *\", [\"en-US\", \"fr-CA\", \"fr-FR\"])\n",
    "returns: [\"fr-FR\", \"fr-CA\", \"en-US\"]\n",
    "```"
   ]
  },
  {
   "cell_type": "code",
   "execution_count": 2,
   "metadata": {},
   "outputs": [],
   "source": [
    "from collections import defaultdict\n",
    "\n",
    "def parse_accept_language(accepted, supported):\n",
    "\n",
    "    # convert the supported languages to a dict, where key is the language and value is the country\n",
    "    supported_dict = defaultdict(list)\n",
    "    for i in supported:\n",
    "        language, country = i.split('-')\n",
    "        supported_dict[language].append(country)\n",
    "\n",
    "    # convert accepted to list\n",
    "    accepted_list = accepted.split(',')\n",
    "    accepted_list = [x.strip() for x in accepted_list]\n",
    "\n",
    "    result = []\n",
    "\n",
    "    for j in accepted_list:\n",
    "        # if the country is specified, check if the language, country pair is supported\n",
    "        if '-' in j:\n",
    "            language, country = j.split('-')\n",
    "            if language in supported_dict and country in supported_dict[language]:\n",
    "                if j not in result:\n",
    "                    result.append(j)\n",
    "        # only language is specified, and not the wildcard option\n",
    "        elif '-' not in j and '*' not in j:\n",
    "            if j in supported_dict:\n",
    "                for k in supported_dict[j]:\n",
    "                    if j + '-' + k not in result:\n",
    "                        result.append(j + '-' + k)\n",
    "        # wildcard option\n",
    "        else:\n",
    "            for i in supported:\n",
    "                if i not in result:\n",
    "                    result.append(i)\n",
    "\n",
    "\n",
    "    return result"
   ]
  },
  {
   "cell_type": "code",
   "execution_count": 4,
   "metadata": {},
   "outputs": [
    {
     "name": "stdout",
     "output_type": "stream",
     "text": [
      "part 1 test cases\n",
      "['en-US', 'fr-FR']\n",
      "['fr-FR']\n",
      "['en-US']\n",
      "part 2 test cases\n",
      "['en-US']\n",
      "['fr-CA', 'fr-FR']\n",
      "['fr-FR', 'fr-CA']\n",
      "part 3 test cases\n",
      "['en-US', 'fr-CA', 'fr-FR']\n",
      "['fr-FR', 'fr-CA', 'en-US']\n",
      "['fr-FR', 'fr-CA', 'fr-BR', 'en-US']\n"
     ]
    }
   ],
   "source": [
    "print(\"part 1 test cases\")\n",
    "print(parse_accept_language(\n",
    "\"en-US, fr-CA, fr-FR\", # the client's Accept-Language header, a string\n",
    "[\"fr-FR\", \"en-US\"] # the server's supported languages, a set of strings\n",
    "))\n",
    "print(parse_accept_language(\"fr-CA, fr-FR\", [\"en-US\", \"fr-FR\"]))\n",
    "print(parse_accept_language(\"en-US\", [\"en-US\", \"fr-CA\"]))\n",
    "print(\"part 2 test cases\")\n",
    "print(parse_accept_language(\"en\", [\"en-US\", \"fr-CA\", \"fr-FR\"]))\n",
    "print(parse_accept_language(\"fr\", [\"en-US\", \"fr-CA\", \"fr-FR\"]))\n",
    "print(parse_accept_language(\"fr-FR, fr\", [\"en-US\", \"fr-CA\", \"fr-FR\"]))\n",
    "print(\"part 3 test cases\")\n",
    "print(parse_accept_language(\"en-US, *\", [\"en-US\", \"fr-CA\", \"fr-FR\"]))\n",
    "print(parse_accept_language(\"fr-FR, fr, *\", [\"en-US\", \"fr-CA\", \"fr-FR\"]))\n",
    "print(parse_accept_language(\"fr-FR, fr, *\", [\"en-US\", \"fr-CA\", \"fr-BR\", \"fr-FR\"]))"
   ]
  },
  {
   "cell_type": "code",
   "execution_count": null,
   "metadata": {},
   "outputs": [],
   "source": []
  }
 ],
 "metadata": {
  "kernelspec": {
   "display_name": "Python 3",
   "language": "python",
   "name": "python3"
  },
  "language_info": {
   "codemirror_mode": {
    "name": "ipython",
    "version": 3
   },
   "file_extension": ".py",
   "mimetype": "text/x-python",
   "name": "python",
   "nbconvert_exporter": "python",
   "pygments_lexer": "ipython3",
   "version": "3.11.6"
  }
 },
 "nbformat": 4,
 "nbformat_minor": 2
}
