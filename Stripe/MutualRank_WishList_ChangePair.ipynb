{
 "cells": [
  {
   "cell_type": "markdown",
   "metadata": {},
   "source": [
    "https://www.1point3acres.com/bbs/thread-793699-1-1.html\n",
    "\n",
    "https://www.1point3acres.com/bbs/thread-790131-1-1.html\n",
    "\n",
    "https://www.1point3acres.com/bbs/thread-778390-1-1.html\n",
    "\n",
    "https://www.1point3acres.com/bbs/thread-769296-1-1.html\n",
    "\n",
    "https://www.1point3acres.com/bbs/thread-756692-1-1.html\n",
    "\n",
    "https://www.1point3acres.com/bbs/thread-745268-1-1.html"
   ]
  },
  {
   "cell_type": "code",
   "execution_count": null,
   "metadata": {
    "vscode": {
     "languageId": "plaintext"
    }
   },
   "outputs": [],
   "source": []
  },
  {
   "cell_type": "code",
   "execution_count": null,
   "metadata": {
    "vscode": {
     "languageId": "plaintext"
    }
   },
   "outputs": [],
   "source": []
  },
  {
   "cell_type": "markdown",
   "metadata": {},
   "source": []
  }
 ],
 "metadata": {
  "language_info": {
   "name": "python"
  }
 },
 "nbformat": 4,
 "nbformat_minor": 2
}
