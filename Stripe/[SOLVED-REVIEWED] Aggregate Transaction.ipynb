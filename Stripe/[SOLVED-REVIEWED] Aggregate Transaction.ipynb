{
 "cells": [
  {
   "cell_type": "markdown",
   "metadata": {},
   "source": [
    "https://www.1point3acres.com/bbs/thread-1089011-1-1.html\n",
    "\n",
    "\n",
    "### Part 1 \n",
    "\n",
    "prompt: Stripe in Brazil is obliged to register customer's transactions for each merchant with the central bank as an aggregated unit per day.\n",
    "These are called receivables. A receivable is identified by 3 identifiers:\n",
    "* merchant_id (String): The id of the merchant on Stripe side.\n",
    "* card_type (String): The type of the card used for the transaction (e.g. Visa)\n",
    "* payout_date (String): String date of the funds available to the merchant by Stripe.\n",
    "A payment transaction in Stripe API can be represented as the following object:\n",
    "```\n",
    "Transaction {\n",
    "    string customer_id\n",
    "    string merchant_id\n",
    "    string payout_date\n",
    "    string card_type\n",
    "    int amount\n",
    "}\n",
    "```\n",
    "Implement register_receivables function that takes a string in CSV format\n",
    "where each line represents a transaction and returns the registered aggregated receivables using the rules above.\n",
    "Print the returned receivables to console using the format below.\n",
    "Feel free to parse the CSV using a standard or a 3rd party library or implement it yourself.\n",
    "You can assume the following about the input:\n",
    "* The first line of the input is a header. The header is always the same so it can be ignored or hardcoded\n",
    "* You can assume that the input has\n",
    "already been read from a file and checked for correctness\n",
    "* No data fields in this file will include commas or whitespace surrounding the field values.\n",
    "You can also assume the following about the output:\n",
    "* The first line of the output is the header. The header is always the same so it can be hardcoded\n",
    "* Order of the output does not matter\n",
    "Example input 1:\n",
    "```\n",
    "customer_id,merchant_id,payout_date,card_type,amount\n",
    "cust1,merchantA,2021-12-30,Visa,150\n",
    "cust2,merchantA,2021-12-30,Visa,200\n",
    "cust3,merchantB,2021-12-31,MasterCard,300\n",
    "cust4,merchantA,2021-12-30,Visa,50\n",
    "```\n",
    "Output 1:\n",
    "```\n",
    "merchant_id,card_type,payout_date,amount\n",
    "merchantA,Visa,2021-12-30,400\n",
    "merchantB,MasterCard,2021-12-31,300\n",
    "```\n",
    "Example input 2:\n",
    "```\n",
    "customer_id,merchant_id,payout_date,card_type,amount\n",
    "cust1,merchantA,2021-12-29,MasterCard,50\n",
    "cust2,merchantA,2021-12-29,Visa,150\n",
    "cust3,merchantB,2021-12-31,Visa,300\n",
    "cust4,merchantB,2021-12-29,MasterCard,200\n",
    "```\n",
    "Output 2\n",
    "```\n",
    "merchant_id,card_type,payout_date,amount\n",
    "merchantA,MasterCard,2021-12-29,50\n",
    "merchantA,Visa,2021-12-29,150\n",
    "merchantB,Visa,2021-12-31,300\n",
    "merchantB,MasterCard,2021-12-29,200\n",
    "```\n"
   ]
  },
  {
   "cell_type": "markdown",
   "metadata": {},
   "source": [
    "#### Solution 1: use pandas"
   ]
  },
  {
   "cell_type": "code",
   "execution_count": 28,
   "metadata": {},
   "outputs": [],
   "source": [
    "# pip install pandas"
   ]
  },
  {
   "cell_type": "code",
   "execution_count": 56,
   "metadata": {},
   "outputs": [],
   "source": [
    "import pandas as pd\n",
    "def register_receivables_part1_pd(file_path):\n",
    "\n",
    "    df = pd.read_csv(file_path)\n",
    "    result_df = df.groupby(['merchant_id', 'card_type', 'payout_date']).amount.sum().reset_index()\n",
    "    result_df.columns = ['merchant_id', 'card_type', 'payout_date', 'amount']\n",
    "\n",
    "    return result_df\n",
    "    "
   ]
  },
  {
   "cell_type": "code",
   "execution_count": 58,
   "metadata": {},
   "outputs": [
    {
     "name": "stdout",
     "output_type": "stream",
     "text": [
      "  merchant_id   card_type payout_date  amount\n",
      "0   merchantA        Visa  2021-12-30     400\n",
      "1   merchantB  MasterCard  2021-12-31     300\n",
      "  merchant_id   card_type payout_date  amount\n",
      "0   merchantA  MasterCard  2021-12-29      50\n",
      "1   merchantA        Visa  2021-12-29     150\n",
      "2   merchantB  MasterCard  2021-12-29     200\n",
      "3   merchantB        Visa  2021-12-31     300\n"
     ]
    }
   ],
   "source": [
    "print(register_receivables_part1_pd('transaction_data/part1_transactions1.csv'))\n",
    "print(register_receivables_part1_pd('transaction_data/part1_transactions2.csv'))"
   ]
  },
  {
   "cell_type": "markdown",
   "metadata": {},
   "source": [
    "#### Solution 2: basic data structures"
   ]
  },
  {
   "cell_type": "code",
   "execution_count": null,
   "metadata": {},
   "outputs": [],
   "source": [
    "import csv\n",
    "from collections import defaultdict"
   ]
  },
  {
   "cell_type": "code",
   "execution_count": 123,
   "metadata": {},
   "outputs": [],
   "source": [
    "def register_receivables_part1(file_path, output_file):\n",
    "\n",
    "    # dictionary to store the aggregated data\n",
    "    grouped_data = defaultdict(int)\n",
    "\n",
    "    with open(file_path, newline='', encoding='utf-8') as csvfile:\n",
    "        reader = csv.reader(csvfile)\n",
    "        header = next(reader) # skip header and store the header\n",
    "\n",
    "    #    header: customer_id,merchant_id,payout_date,card_type,amount\n",
    "        for row in reader:\n",
    "            customer_id, merchant_id, payout_date, card_type, amount = row[0], row[1], row[2], row[3], int(row[4])\n",
    "            grouped_data[(merchant_id, card_type, payout_date)] += amount\n",
    "\n",
    "    # # display\n",
    "    # for (merchant_id, card_type, payout_date), amount in grouped_data.items():\n",
    "    #     print(f\"merchant_id: {merchant_id}, card_type: {card_type}, payout_date: {payout_date}, amount: {amount}\")\n",
    "\n",
    "    # convert the dictionary to a list of lists (CSV-ready format)\n",
    "    csv_data = [['merchant_id', 'card_type', 'payout_date', 'amount']]\n",
    "    csv_data.extend([merchant_id, card_type, payout_date, amount] for (merchant_id, card_type, payout_date), amount in grouped_data.items()) \n",
    "\n",
    "    # write to CSV\n",
    "    with open(output_file, mode = 'w', newline='', encoding='utf-8') as file:\n",
    "        writer = csv.writer(file)\n",
    "        writer.writerows(csv_data)\n",
    "        \n",
    "    return csv_data"
   ]
  },
  {
   "cell_type": "code",
   "execution_count": 124,
   "metadata": {},
   "outputs": [
    {
     "name": "stdout",
     "output_type": "stream",
     "text": [
      "[['merchant_id', 'card_type', 'payout_date', 'amount'], ['merchantA', 'Visa', '2021-12-30', 400], ['merchantB', 'MasterCard', '2021-12-31', 300]]\n",
      "[['merchant_id', 'card_type', 'payout_date', 'amount'], ['merchantA', 'MasterCard', '2021-12-29', 50], ['merchantA', 'Visa', '2021-12-29', 150], ['merchantB', 'Visa', '2021-12-31', 300], ['merchantB', 'MasterCard', '2021-12-29', 200]]\n"
     ]
    }
   ],
   "source": [
    "print(register_receivables_part1('transaction_data/part1_transactions1.csv', 'transaction_data/part1_output_aggregated_data1.csv'))\n",
    "print(register_receivables_part1('transaction_data/part1_transactions2.csv', 'transaction_data/part1_output_aggregated_data2.csv'))"
   ]
  },
  {
   "cell_type": "markdown",
   "metadata": {},
   "source": [
    "### Part 2/3:\n",
    "\n",
    "In Brazil, settlement times can take up to 30 days for domestic card transaction. i.e. A merchant selling items online\n",
    "will receive their money from a customer after a month of selling an item. This has created a need where merchants\n",
    "are looking for ways to receive their money faster.\n",
    "Per the regulations, merchants can sell their receivables to a financial institution. The financial institution\n",
    "will pay the funds to the merchant earlier and receive the funds from Stripe instead on the payout date.\n",
    "An agreement between the merchant and a financial institution is called a contract. Stripe is obliged to respect\n",
    "those contracts and update the registered receivables. Each contract is mapped to one receivable based on the\n",
    "same 3 identifiers as above:\n",
    "* merchant_id (String): The id of the merchant on Stripe side.\n",
    "* card_type (String): The type of the card used for the transaction (e.g. Visa)\n",
    "* payout_date (String): String date of the funds available to the merchant by Stripe.\n",
    "A contract sent to Stripe is represented as follows:\n",
    "```\n",
    "Contract {\n",
    "    string contract_id\n",
    "    string merchant_id\n",
    "    string payout_date\n",
    "    string card_type\n",
    "    integer amount\n",
    "}\n",
    "```\n",
    "Implement update_receivables function that takes the list of registered receivables from part 1 and additional parameter of list of contracts.\n",
    "The result should be the updated list of receivables.\n",
    "For each contract, a receivable should be created for the contract id, and the corresponding merchant receivable should be removed.\n",
    "Example input 1:\n",
    "Transactions:\n",
    "```\n",
    "customer_id,merchant_id,payout_date,card_type,amount\n",
    "cust1,merchantA,2022-01-05,Visa,300\n",
    "cust2,merchantA,2022-01-05,Visa,200\n",
    "cust3,merchantB,2022-01-06,MasterCard,1000\n",
    "```\n",
    "Contracts:\n",
    "```\n",
    "contract_id,merchant_id,payout_date,card_type,amount\n",
    "contract1,merchantA,2022-01-05,Visa,500\n",
    "```\n",
    "=> update_receivables(registered_receivables, input_contracts)\n",
    "Output 1:\n",
    "```\n",
    "id,card_type,payout_date,amount\n",
    "contract1,Visa,2022-01-05,500\n",
    "merchantB,MasterCard,2022-01-06,1000\n",
    "```\n",
    "Example input 2:\n",
    "Transactions:\n",
    "```\n",
    "customer_id,merchant_id,payout_date,card_type,amount\n",
    "cust1,merchantA,2022-01-07,Visa,500\n",
    "cust2,merchantA,2022-01-07,Visa,250\n",
    "cust3,merchantB,2022-01-08,MasterCard,1250\n",
    "cust4,merchantC,2022-01-09,Visa,1500\n",
    "```\n",
    "Contracts:\n",
    "```\n",
    "contract_id,merchant_id,payout_date,card_type,amount\n",
    "contract1,merchantA,2022-01-07,Visa,750\n",
    "contract2,merchantC,2022-01-09,Visa,1500\n",
    "```\n",
    "=> update_receivables(registered_receivables, input_contracts)\n",
    "Output 2:\n",
    "```\n",
    "id,card_type,payout_date,amount\n",
    "contract1,Visa,2022-01-07,750\n",
    "contract2,Visa,2022-01-09,1500\n",
    "merchantB,MasterCard,2022-01-08,1250\n",
    "```\n",
    "*/\n",
    "\n",
    "### Part 3:\n",
    "It is possible to have fully covered, or partially covered. So keep the original records with subtraction (even 0), add new records with contracts"
   ]
  },
  {
   "cell_type": "code",
   "execution_count": 140,
   "metadata": {},
   "outputs": [],
   "source": [
    "import pandas as pd\n",
    "\n",
    "def update_receivables_pd(registered_receivables, input_contracts):\n",
    "\n",
    "    df_tran = pd.read_csv(registered_receivables)\n",
    "    df_cont = pd.read_csv(input_contracts)\n",
    "    df_cont.columns = [\"cont_amount\" if col == \"amount\" else col for col in df_cont.columns]\n",
    "\n",
    "    # aggregate the transaction amount - receivables\n",
    "    df_agg = df_tran.groupby(['merchant_id', 'card_type', 'payout_date']).amount.sum().reset_index()\n",
    "    df_agg.columns = ['merchant_id', 'card_type', 'payout_date', 're_amount']\n",
    "    \n",
    "    \n",
    "    # combine receivables and contracts\n",
    "    df_total = df_agg.merge(df_cont, how = 'left', on = ['merchant_id', 'card_type', 'payout_date'])\n",
    "    \n",
    "    # # if the receivable amount are all covered by the contract amount\n",
    "    # ## update the merchant_id to contract_id, also remove the values from contract columns\n",
    "    # df_total.loc[df_total['re_amount'] == df_total['cont_amount'], 'merchant_id'] = df_total['contract_id']\n",
    "    # df_total.loc[df_total['re_amount'] == df_total['cont_amount'], 'contract_id'] = None\n",
    "    # df_total.loc[df_total['re_amount'] == df_total['cont_amount'], 'cont_amount'] = None\n",
    "\n",
    "    # if the receivable amount are partially coverted by the contract amount\n",
    "    df_total.loc[df_total['re_amount'] >= df_total['cont_amount'], 're_amount'] = df_total['re_amount'] - df_total['cont_amount']\n",
    "    # add all contracts (partially covered) to the total dataframe as new records \n",
    "    # fully covered receivables' contracts are being modified to None before\n",
    "    df_processed = df_total[df_total['contract_id'].notna()][['contract_id', 'card_type', 'payout_date', 'cont_amount']]\n",
    "    df_processed.columns = ['merchant_id', 'card_type', 'payout_date', 're_amount']\n",
    "\n",
    "    df_result = pd.concat([df_total[['merchant_id', 'card_type', 'payout_date', 're_amount']], df_processed], axis = 0)\n",
    "    df_result.columns = [\"id\" if col == \"merchant_id\" else col for col in df_result.columns]\n",
    "    df_result.columns = [\"amount\" if col == \"re_amount\" else col for col in df_result.columns]\n",
    "\n",
    "    return df_result\n",
    "    "
   ]
  },
  {
   "cell_type": "code",
   "execution_count": 141,
   "metadata": {},
   "outputs": [
    {
     "name": "stdout",
     "output_type": "stream",
     "text": [
      "          id   card_type payout_date  amount\n",
      "0  merchantA        Visa  2022-01-05     0.0\n",
      "1  merchantB  MasterCard  2022-01-06  1000.0\n",
      "2  merchantC  MasterCard  2022-01-07   100.0\n",
      "0  contract1        Visa  2022-01-05   500.0\n",
      "2  contract2  MasterCard  2022-01-07   500.0\n",
      "          id   card_type payout_date  amount\n",
      "0  merchantA        Visa  2022-01-07     0.0\n",
      "1  merchantB  MasterCard  2022-01-08  1250.0\n",
      "2  merchantC        Visa  2022-01-09     0.0\n",
      "0  contract1        Visa  2022-01-07   750.0\n",
      "2  contract2        Visa  2022-01-09  1500.0\n"
     ]
    }
   ],
   "source": [
    "print(update_receivables_pd('transaction_data/part2_transactions1.csv', 'transaction_data/part2_contracts1.csv'))\n",
    "print(update_receivables_pd('transaction_data/part2_transactions2.csv', 'transaction_data/part2_contracts2.csv'))"
   ]
  },
  {
   "cell_type": "code",
   "execution_count": 142,
   "metadata": {},
   "outputs": [],
   "source": [
    "def update_receivables_part2(tran_file_path, cont_file_path, output_file):\n",
    "\n",
    "    # dictionary to store the raw data\n",
    "    grouped_data = defaultdict(int)\n",
    "\n",
    "    # read transaction data and aggregate\n",
    "    with open(tran_file_path, newline='', encoding='utf-8') as csvfile:\n",
    "        reader = csv.reader(csvfile)\n",
    "        header = next(reader) # skip header and store the header\n",
    "\n",
    "    #    header: customer_id,merchant_id,payout_date,card_type,amount\n",
    "        for row in reader:\n",
    "            customer_id, merchant_id, payout_date, card_type, re_amount = row[0], row[1], row[2], row[3], int(row[4])\n",
    "            grouped_data[(merchant_id, card_type, payout_date)] += re_amount\n",
    "\n",
    "    # read contract data and store\n",
    "    with open(cont_file_path, newline='', encoding='utf-8') as csvfile:\n",
    "        reader = csv.reader(csvfile)\n",
    "        header = next(reader)\n",
    "\n",
    "        for row in reader:\n",
    "            contract_id, merchant_id, payout_date, card_type, cont_amount = row[0], row[1], row[2], row[3], int(row[4])\n",
    "            if (merchant_id, card_type, payout_date) in grouped_data:\n",
    "                new_amount = grouped_data[(merchant_id, card_type, payout_date)] - cont_amount\n",
    "\n",
    "                grouped_data[(merchant_id, card_type, payout_date)] = new_amount\n",
    "                grouped_data[(contract_id, card_type, payout_date)] = cont_amount\n",
    "\n",
    "    # # # display\n",
    "    # for (id, card_type, payout_date), amount in grouped_data.items():\n",
    "    #     print(f\"id: {id}, card_type: {card_type}, payout_date: {payout_date}, amount: {amount}\")\n",
    "\n",
    "    # convert the dictionary to a list of lists (CSV-ready format)\n",
    "    csv_data = [['id', 'card_type', 'payout_date', 'amount']]\n",
    "    csv_data.extend([id, card_type, payout_date, amount] for (id, card_type, payout_date), amount in grouped_data.items()) \n",
    "\n",
    "    # write to CSV\n",
    "    with open(output_file, mode = 'w', newline='', encoding='utf-8') as file:\n",
    "        writer = csv.writer(file)\n",
    "        writer.writerows(csv_data)\n",
    "        \n",
    "    return csv_data"
   ]
  },
  {
   "cell_type": "code",
   "execution_count": 143,
   "metadata": {},
   "outputs": [
    {
     "data": {
      "text/plain": [
       "[['id', 'card_type', 'payout_date', 'amount'],\n",
       " ['merchantA', 'Visa', '2022-01-05', 0],\n",
       " ['merchantB', 'MasterCard', '2022-01-06', 1000],\n",
       " ['merchantC', 'MasterCard', '2022-01-07', 100],\n",
       " ['contract1', 'Visa', '2022-01-05', 500],\n",
       " ['contract2', 'MasterCard', '2022-01-07', 500]]"
      ]
     },
     "execution_count": 143,
     "metadata": {},
     "output_type": "execute_result"
    }
   ],
   "source": [
    "update_receivables_part2('transaction_data/part2_transactions1.csv', 'transaction_data/part2_contracts1.csv', 'transaction_data/part2_output_results1.csv')"
   ]
  },
  {
   "cell_type": "code",
   "execution_count": null,
   "metadata": {},
   "outputs": [],
   "source": []
  }
 ],
 "metadata": {
  "kernelspec": {
   "display_name": "Python 3",
   "language": "python",
   "name": "python3"
  },
  "language_info": {
   "codemirror_mode": {
    "name": "ipython",
    "version": 3
   },
   "file_extension": ".py",
   "mimetype": "text/x-python",
   "name": "python",
   "nbconvert_exporter": "python",
   "pygments_lexer": "ipython3",
   "version": "3.11.6"
  }
 },
 "nbformat": 4,
 "nbformat_minor": 2
}
