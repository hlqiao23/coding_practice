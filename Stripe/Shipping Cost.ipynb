{
 "cells": [
  {
   "cell_type": "markdown",
   "metadata": {},
   "source": [
    "Given the string “US:UK:UPS:4,US:UK:DHL:5,UK:CA:FedEx:10,AU:JP:DHL:20”\n",
    "\n",
    "where each element follows, sourceCountry:targetCountry:method:cost\n",
    "\n",
    "### Part 1\n",
    "\n",
    "Write a function shipping_cost(inputString, sourceCountry, targetCountry, method) to return the cost\n",
    "\n",
    "*pay attention to the edge cases*"
   ]
  },
  {
   "cell_type": "code",
   "execution_count": 2,
   "metadata": {},
   "outputs": [],
   "source": [
    "## Part 1\n",
    "## use string match\n",
    "def shipping_cost(inputString, sourceCountry, targetCountry, method):\n",
    "\n",
    "    # parse the input string\n",
    "    for i in inputString.split(\",\"):\n",
    "        if len(i.split(\":\")) == 4:\n",
    "            source, target, method, cost = i.split(\":\")\n",
    "            if source == sourceCountry and target == targetCountry and method == method:\n",
    "                return int(cost)\n",
    "\n",
    "    return None # if no match"
   ]
  },
  {
   "cell_type": "code",
   "execution_count": 3,
   "metadata": {},
   "outputs": [
    {
     "name": "stdout",
     "output_type": "stream",
     "text": [
      "4\n",
      "4\n",
      "10\n",
      "20\n",
      "None\n"
     ]
    }
   ],
   "source": [
    "input_data = \"US:UK:UPS:4,US:UK:DHL:5,UK:CA:FedEx:10,AU:JP:DHL:20\"\n",
    "print(shipping_cost(input_data, \"US\", \"UK\", \"UPS\"))  # Output: 4\n",
    "print(shipping_cost(input_data, \"US\", \"UK\", \"DHL\"))  # Output: 5\n",
    "print(shipping_cost(input_data, \"UK\", \"CA\", \"FedEx\"))  # Output: 10\n",
    "print(shipping_cost(input_data, \"AU\", \"JP\", \"DHL\"))  # Output: 20\n",
    "print(shipping_cost(input_data, \"US\", \"CA\", \"FedEx\"))  # Output: None (No match)"
   ]
  },
  {
   "cell_type": "code",
   "execution_count": 4,
   "metadata": {},
   "outputs": [],
   "source": [
    "### part 1\n",
    "### use nested map\n",
    "def build_shipping_dict(inputString):\n",
    "    shipping_dict = {}\n",
    "    for record in inputString.split(','):\n",
    "        if len(record.split(\":\")) == 4:\n",
    "            source, target, method, cost = record.split(\":\")\n",
    "            cost = int(cost)\n",
    "\n",
    "            # the following 2 if clause is to avoid KeyError\n",
    "            if source not in shipping_dict:\n",
    "                shipping_dict[source] = {}\n",
    "            if target not in shipping_dict[source]:\n",
    "                shipping_dict[source][target] = {}\n",
    "            \n",
    "            shipping_dict[source][target][method] = cost\n",
    "        \n",
    "    return shipping_dict\n"
   ]
  },
  {
   "cell_type": "code",
   "execution_count": 5,
   "metadata": {},
   "outputs": [],
   "source": [
    "def shipping_cost(inputString, sourceCountry, targetCountry, method):\n",
    "    \n",
    "    shipping_dict = build_shipping_dict(inputString)\n",
    "    \n",
    "    # use get function to avoid no match cases\n",
    "    # dictionary.get(keyname, value): a value to return if the specified key does not exist\n",
    "    # for the first 2 get function, specifying {} is to avoid the error that default None does not have a get function\n",
    "    return shipping_dict.get(sourceCountry, {}).get(targetCountry, {}).get(method, None)"
   ]
  },
  {
   "cell_type": "code",
   "execution_count": 6,
   "metadata": {},
   "outputs": [
    {
     "name": "stdout",
     "output_type": "stream",
     "text": [
      "4\n",
      "5\n",
      "10\n",
      "20\n",
      "None\n",
      "None\n"
     ]
    }
   ],
   "source": [
    "input_data = \"US:UK:UPS:4,US:UK:DHL:5,UK:CA:FedEx:10,AU:JP:DHL:20\"\n",
    "print(shipping_cost(input_data, \"US\", \"UK\", \"UPS\"))  # Output: 4\n",
    "print(shipping_cost(input_data, \"US\", \"UK\", \"DHL\"))  # Output: 5\n",
    "print(shipping_cost(input_data, \"UK\", \"CA\", \"FedEx\"))  # Output: 10\n",
    "print(shipping_cost(input_data, \"AU\", \"JP\", \"DHL\"))  # Output: 20\n",
    "print(shipping_cost(input_data, \"US\", \"CA\", \"FedEx\"))  # Output: None (No match)\n",
    "print(shipping_cost(input_data, \"CN\", \"CA\", \"FedEx\"))  # Output: None (No match)"
   ]
  },
  {
   "cell_type": "markdown",
   "metadata": {},
   "source": [
    "### Part 2\n",
    "If one middle country is allowed, output the following structure for the example input sourceCountry=US, targetCountry=CA, \n",
    "\n",
    "{\n",
    "    route: \"US -> UK -> CA\", \n",
    "    method: \"UPS -> FedEx\", \n",
    "    cost: 14\n",
    "}"
   ]
  },
  {
   "cell_type": "code",
   "execution_count": 13,
   "metadata": {},
   "outputs": [],
   "source": [
    "from collections import defaultdict\n",
    "\n",
    "### part 2\n",
    "def shipping_cost(inputString, sourceCountry, targetCountry):\n",
    "    shipping_dict = build_shipping_dict(inputString)\n",
    "\n",
    "    result_route = \"\"\n",
    "    result_method = \"\"\n",
    "    result_cost = \"\"\n",
    "    result = []\n",
    "\n",
    "    if sourceCountry in shipping_dict:\n",
    "        # all possible one stop location from source country\n",
    "        one_stop_loc = list(shipping_dict[sourceCountry].keys())\n",
    "\n",
    "        for loc in one_stop_loc:\n",
    "            if loc == targetCountry:\n",
    "                for method, cost in shipping_dict[sourceCountry][targetCountry].items():\n",
    "                    result_route = sourceCountry + \" -> \" + targetCountry\n",
    "                    result_method = method\n",
    "                    result_cost = cost\n",
    "                    result.append({\"route\": result_route, \"method\": result_method, \"cost\": result_cost})\n",
    "            if loc in shipping_dict and targetCountry in shipping_dict[loc]:\n",
    "                # construct the final output                \n",
    "                # there could be multiple routes between sourceCountry to loc and loc to TargetCountry\n",
    "                for first_method, first_cost in shipping_dict[sourceCountry][loc].items():\n",
    "                    for second_method, second_cost in shipping_dict[loc][targetCountry].items():\n",
    "                        result_route = sourceCountry + \" -> \" + loc + \" -> \" + targetCountry\n",
    "                        result_method = first_method + \" -> \" + second_method\n",
    "                        result_cost = first_cost + second_cost\n",
    "                        result.append({\"route\": result_route, \"method\": result_method, \"cost\": result_cost})\n",
    "        \n",
    "    if len(result) == 0:\n",
    "        return None\n",
    "    else:\n",
    "        return result\n"
   ]
  },
  {
   "cell_type": "code",
   "execution_count": 10,
   "metadata": {},
   "outputs": [
    {
     "name": "stdout",
     "output_type": "stream",
     "text": [
      "{}\n"
     ]
    }
   ],
   "source": [
    "shipping_dict = build_shipping_dict(\"US:UK:UPS:4,US:UK:DHL:5,UK:CA:FedEx:10,AU:JP:DHL:20,US:ME:UPS:1,ME:CA:FedEx:2\")\n",
    "print(shipping_dict.get(\"CA\", {}))"
   ]
  },
  {
   "cell_type": "code",
   "execution_count": 12,
   "metadata": {},
   "outputs": [
    {
     "name": "stdout",
     "output_type": "stream",
     "text": [
      "None\n"
     ]
    }
   ],
   "source": [
    "input_data = \"US:UK:UPS:4,US:UK:DHL:5,UK:CA:FedEx:10,AU:JP:DHL:20\"\n",
    "print(shipping_cost(input_data, \"CN\", \"CA\"))"
   ]
  },
  {
   "cell_type": "markdown",
   "metadata": {},
   "source": [
    "### Part 3\n",
    "Find the lowest cost"
   ]
  },
  {
   "cell_type": "code",
   "execution_count": 14,
   "metadata": {},
   "outputs": [],
   "source": [
    "from collections import defaultdict\n",
    "\n",
    "### part 3\n",
    "def shipping_cost(inputString, sourceCountry, targetCountry):\n",
    "    shipping_dict = build_shipping_dict(inputString)\n",
    "\n",
    "    result_route = \"\"\n",
    "    result_method = \"\"\n",
    "    result_cost = \"\"\n",
    "    min_cost = float(\"inf\")\n",
    "\n",
    "    if sourceCountry in shipping_dict:\n",
    "        # all possible one stop location from source country\n",
    "        one_stop_loc = list(shipping_dict[sourceCountry].keys())\n",
    "\n",
    "        for loc in one_stop_loc:\n",
    "            if loc == targetCountry:\n",
    "                for method, cost in shipping_dict[sourceCountry][targetCountry].items():\n",
    "                    result_route = sourceCountry + \" -> \" + targetCountry\n",
    "                    result_method = method\n",
    "                    result_cost = cost\n",
    "\n",
    "                    if result_cost < min_cost:\n",
    "                        result = {\"route\": result_route, \"method\": result_method, \"cost\": result_cost}\n",
    "                        min_cost = result_cost\n",
    "            if loc in shipping_dict and targetCountry in shipping_dict[loc]:\n",
    "                # construct the final output                \n",
    "                # there could be multiple routes between sourceCountry to loc and loc to TargetCountry\n",
    "                for first_method, first_cost in shipping_dict[sourceCountry][loc].items():\n",
    "                    for second_method, second_cost in shipping_dict[loc][targetCountry].items():\n",
    "                        result_route = sourceCountry + \" -> \" + loc + \" -> \" + targetCountry\n",
    "                        result_method = first_method + \" -> \" + second_method\n",
    "                        result_cost = first_cost + second_cost\n",
    "                        if result_cost < min_cost:\n",
    "                            result = {\"route\": result_route, \"method\": result_method, \"cost\": result_cost}\n",
    "                            min_cost = result_cost\n",
    "        \n",
    "    if len(result) == 0:\n",
    "        return None\n",
    "    else:\n",
    "        return result\n"
   ]
  },
  {
   "cell_type": "code",
   "execution_count": 15,
   "metadata": {},
   "outputs": [
    {
     "name": "stdout",
     "output_type": "stream",
     "text": [
      "{'route': 'US -> ME -> CA', 'method': 'UPS -> FedEx', 'cost': 3}\n"
     ]
    }
   ],
   "source": [
    "input_data = \"US:UK:UPS:4,US:UK:DHL:5,UK:CA:FedEx:10,AU:JP:DHL:20,US:ME:UPS:1,ME:CA:FedEx:2\"\n",
    "print(shipping_cost(input_data, \"US\", \"CA\"))"
   ]
  },
  {
   "cell_type": "code",
   "execution_count": null,
   "metadata": {},
   "outputs": [],
   "source": []
  }
 ],
 "metadata": {
  "kernelspec": {
   "display_name": "Python 3",
   "language": "python",
   "name": "python3"
  },
  "language_info": {
   "codemirror_mode": {
    "name": "ipython",
    "version": 3
   },
   "file_extension": ".py",
   "mimetype": "text/x-python",
   "name": "python",
   "nbconvert_exporter": "python",
   "pygments_lexer": "ipython3",
   "version": "3.11.6"
  }
 },
 "nbformat": 4,
 "nbformat_minor": 2
}
