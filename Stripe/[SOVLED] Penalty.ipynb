{
 "cells": [
  {
   "cell_type": "markdown",
   "metadata": {},
   "source": [
    "https://www.1point3acres.com/bbs/thread-831026-1-1.html\n",
    "\n",
    "https://www.1point3acres.com/bbs/thread-1032751-1-1.html\n",
    "\n",
    "https://www.1point3acres.com/bbs/thread-780948-2-1.html\n",
    "\n",
    "https://www.1point3acres.com/bbs/thread-771600-1-1.html\n",
    "\n",
    "### Problem: \n",
    "\n",
    "our employee might have written \"Y Y N Y\", which means the store was open for four hours that day, and it had customers shopping during every hour but its third one.\n",
    "```\n",
    "  hour: | 1 | 2 | 3 | 4 |\n",
    "  log:  | Y | Y | N | Y |\n",
    "                  ^\n",
    "                  |\n",
    "            No customers during hour 3\n",
    "```\n",
    "\n",
    "We suspect that we're keeping the store open too long, so we'd like to understand when we *should have* closed the store. For simplicity's sake, we'll talk about when to close the store by talking about how many hours it was open: if our closing time is `2`, that means the store would have been open for two hours and then closed.\n",
    "```\n",
    "  hour:         | 1 | 2 | 3 | 4 |\n",
    "  log:          | Y | Y | N | Y |\n",
    "  closing_time: 0   1   2   3   4\n",
    "                ^               ^\n",
    "                |               |\n",
    "         before hour #1    after hour #4\n",
    "```\n",
    "\n",
    "(A closing time of 0 means we simply wouldn't have opened the store at all that day.)\n",
    "\n",
    "First, let's define a \"penalty\": what we want to know is \"how bad would it be if we had closed the store at a given hour?\" For a given log and a given closing time, we compute our penalty like this:\n",
    "\n",
    "  +1 penalty for every hour that we're *open* with no customers\n",
    "  +1 penalty for every hour that we're *closed* when customers would have shopped\n",
    "```\n",
    "For example:\n",
    "  hour:    | 1 | 2 | 3 | 4 |   penalty = 3:\n",
    "  log:     | Y | Y | N | Y |     (three hours with customers after closing)\n",
    "  penalty: | * | * |   | * |\n",
    "           ^\n",
    "           |\n",
    "         closing_time = 0\n",
    "  hour:    | 1 | 2 | 3 | 4 |   penalty = 2:\n",
    "  log:     | N | Y | N | Y |      (one hour without customers while open +\n",
    "  penalty: | * |   |   | * |       one hour with customers after closing)\n",
    "                   ^\n",
    "                   |\n",
    "                 closing_time = 2\n",
    "  hour:    | 1 | 2 | 3 | 4 |   penalty = 1\n",
    "  log:     | Y | Y | N | Y |      (one hour without customers while open)\n",
    "  penalty: |   |   | * |   |\n",
    "                           ^\n",
    "                           |\n",
    "                         closing_time = 4\n",
    "```\n",
    "Note that if we have a log from `n` open hours, the `closing_time` variable can range from 0, meaning \"never even opened\", to n, meaning \"open the entire time\".\n",
    "\n",
    "### 1a)\n",
    "Write a function `compute_penalty` that computes the total penalty, given\n",
    "  \n",
    "a store log (as a space separated string) AND\n",
    "\n",
    "a closing time (as an integer)\n",
    "\n",
    "In addition to writing this function, you should use tests to demonstrate that it's correct. Do some simple testing, and then quickly describe a few other tests you would write given more time.\n",
    "\n",
    "#### Examples: \n",
    "```python\n",
    "compute_penalty(\"Y Y N Y\", 0) should return 3\n",
    "compute_penalty(\"N Y N Y\", 2) should return 2\n",
    "compute_penalty(\"Y Y N Y\", 4) should return 1\n",
    "```\n"
   ]
  },
  {
   "cell_type": "code",
   "execution_count": 22,
   "metadata": {},
   "outputs": [],
   "source": [
    "def compute_penalty_part1(log, closing_time):\n",
    "\n",
    "    log_list = log.split(' ')\n",
    "    # print(log_list)\n",
    "\n",
    "    penalty = 0\n",
    "    for i in range(len(log_list)):\n",
    "        # print(log_list[i])\n",
    "        # print(i)\n",
    "        if i >= closing_time and log_list[i] == 'Y':\n",
    "            # print(\"Y after closing time\")\n",
    "            penalty += 1\n",
    "        elif i < closing_time and log_list[i] == 'N':\n",
    "            # print(\"N before closing time\")\n",
    "            penalty += 1\n",
    "\n",
    "    return penalty\n",
    "\n"
   ]
  },
  {
   "cell_type": "code",
   "execution_count": 23,
   "metadata": {},
   "outputs": [
    {
     "name": "stdout",
     "output_type": "stream",
     "text": [
      "3\n",
      "2\n",
      "1\n"
     ]
    }
   ],
   "source": [
    "print(compute_penalty_part1(\"Y Y N Y\", 0)) # should return 3\n",
    "print(compute_penalty_part1(\"N Y N Y\", 2)) # should return 2\n",
    "print(compute_penalty_part1(\"Y Y N Y\", 4)) # should return 1"
   ]
  },
  {
   "cell_type": "markdown",
   "metadata": {},
   "source": [
    "### 1b)\n",
    "Write another function named `find_best_closing_time` that returns the best closing time in terms of `compute_penalty` given just a store log. You should use your answer from 1a to solve this problem.\n",
    "\n",
    "Again, you should use tests to demonstrate that it's correct. Do some simple testing, and then quickly describe a few other tests you would write given more time.  "
   ]
  },
  {
   "cell_type": "code",
   "execution_count": 68,
   "metadata": {},
   "outputs": [],
   "source": [
    "def find_best_closing_time(log):\n",
    "\n",
    "    log_list = log.split(' ')\n",
    "    N = len(log_list)+1\n",
    "\n",
    "    min_penalty = float('inf')\n",
    "    best_time = 0\n",
    "    \n",
    "    for i in range(N):\n",
    "        curr_penalty = compute_penalty_part1(log, i)\n",
    "        if curr_penalty < min_penalty:\n",
    "            best_time = i\n",
    "            min_penalty = min(curr_penalty, min_penalty)\n",
    "    \n",
    "    return best_time\n",
    "        \n"
   ]
  },
  {
   "cell_type": "code",
   "execution_count": 69,
   "metadata": {},
   "outputs": [
    {
     "data": {
      "text/plain": [
       "2"
      ]
     },
     "execution_count": 69,
     "metadata": {},
     "output_type": "execute_result"
    }
   ],
   "source": [
    "find_best_closing_time(\"Y Y N N\") # should return 2"
   ]
  },
  {
   "cell_type": "markdown",
   "metadata": {},
   "source": [
    "### 2a)\n",
    "We've asked our employees to write their store logs all together in the same text file, marking the beginning of each day with `BEGIN` and the end of each day as `END`, sometimes spanning multiple lines. We hoped that the file might look like\n",
    "```\n",
    "\"BEGIN Y Y END \\nBEGIN N N END\"\n",
    "```\n",
    "which would represent two days, where the store was open two hours each day. Unfortunately, our employees are often too busy to remember to finish the logs, which means this text file is littered with unfinished days and extra information scattered throughout. Luckily, we know that an unbroken sequence of BEGIN, zero or more Y's or N's, and END is going to be a valid log, so we can search the aggregate log for those.\n",
    "\n",
    "For example, given the aggregate log\n",
    "  \n",
    "```\n",
    "\"BEGIN BEGIN BEGIN N N BEGIN Y Y Y END N N END\"\n",
    "                         ^           ^\n",
    "                         |           |\n",
    "                         +-----------+\n",
    "                           valid log\n",
    "```\n",
    "\n",
    "We can extract only one valid sequence, \"BEGIN Y Y Y END\". For our purposes, we should ignore any invalid sequences. *These logs cannot be nested.*\n",
    "\n",
    "Write a function `get_best_closing_times` that takes an aggregate log as a string and returns an array of best closing times for every valid log we can find, in the order that we find them.\n",
    "Again, you should use tests to demonstrate that it's correct. Do some simple testing, and then quickly describe a few other tests you would write given more time.\n",
    "\n",
    "```\n",
    "## Examples\n",
    "get_best_closing_times(\"BEGIN Y Y END \\nBEGIN N N END\")\n",
    "  should return an array: [2, 0]\n",
    "get_best_closing_times(\"BEGIN BEGIN \\nBEGIN N N BEGIN Y Y\\n END N N END\")\n",
    "  should return an array: [2]\n",
    "```"
   ]
  },
  {
   "cell_type": "code",
   "execution_count": 72,
   "metadata": {},
   "outputs": [],
   "source": [
    "def get_best_closing_times(agg_log):\n",
    "\n",
    "    # parse the aggregated log to get valid log\n",
    "    agg_log_list = agg_log.split()\n",
    "    # print(agg_log_list)\n",
    "\n",
    "    log_list = []\n",
    "    curr_log = []\n",
    "    valid_log_flag = False\n",
    "    for i in agg_log_list:\n",
    "        # potential start of a valid log, clear the curr_log and set the flag to True\n",
    "        if i == 'BEGIN':\n",
    "            valid_log_flag = True\n",
    "            curr_log = []\n",
    "        elif i in ['Y', 'N'] and valid_log_flag:\n",
    "            curr_log.append(i)\n",
    "        elif i == 'END' and valid_log_flag:\n",
    "            log_list.append(curr_log)\n",
    "            valid_log_flag = False\n",
    "    # print(log_list)\n",
    "\n",
    "    result = []\n",
    "    for i in range(len(log_list)):\n",
    "        # call the function from last question\n",
    "        result.append(find_best_closing_time(\" \".join(log_list[i])))\n",
    "\n",
    "    return result\n",
    "\n",
    "    "
   ]
  },
  {
   "cell_type": "code",
   "execution_count": 73,
   "metadata": {},
   "outputs": [
    {
     "name": "stdout",
     "output_type": "stream",
     "text": [
      "[2, 0]\n",
      "[2]\n"
     ]
    }
   ],
   "source": [
    "print(get_best_closing_times(\"BEGIN Y Y END \\nBEGIN N N END\")) # should return an array: [2, 0]\n",
    "print(get_best_closing_times(\"BEGIN BEGIN \\nBEGIN N N BEGIN Y Y\\n END N N END\")) # should return an array: [2]"
   ]
  },
  {
   "cell_type": "code",
   "execution_count": null,
   "metadata": {},
   "outputs": [
    {
     "data": {
      "text/plain": [
       "['BEGIN', 'Y', 'Y', 'END', 'BEGIN', 'N', 'N', 'END']"
      ]
     },
     "execution_count": 56,
     "metadata": {},
     "output_type": "execute_result"
    }
   ],
   "source": [
    "# usage of split function, if the delimiter is not specified - By default any whitespace is a separator, including \\n\n",
    "logs = \"BEGIN Y Y END \\nBEGIN N N END\"\n",
    "logs.split()"
   ]
  },
  {
   "cell_type": "markdown",
   "metadata": {},
   "source": [
    "### 2b)\n",
    "Over time these aggregate log files can get very large, so write another function, get_best_closing_times__v2. This should work like the previous one, but with two important differences:\n",
    "\n",
    "Instead of accepting an aggregate log as a string, it should accept a filename (and not the contents of the file.)\n",
    "\n",
    "It should take care not to read the whole file’s contents at once, and instead should stream the file as it goes. Assume that the whole file is too large to fit in memory. (You can, however, safely assume that each individual line of the file can fit in memory.)\n",
    "\n",
    "In all other respects, this function should behave like get_best_closing_times, finding the valid log sequences and returning an array of the best closing times corresponding to each.\n",
    "\n",
    "```python\n",
    "Example\n",
    "# assuming `myfile.txt` contains \"BEGIN BEGIN \\nBEGIN N N BEGIN Y Y\\n END N N END\"\n",
    "get_best_closing_times__v2(\"myfile.txt\") # should return an array: [2]\n",
    "```"
   ]
  },
  {
   "cell_type": "code",
   "execution_count": 92,
   "metadata": {},
   "outputs": [],
   "source": [
    "def get_best_closing_times__v2(file_path):\n",
    "\n",
    "    result = []\n",
    "    valid_log = []\n",
    "    valid_log_flag = False\n",
    "    with open(file_path, \"r\") as file:\n",
    "        for line in file:\n",
    "            log = line.replace('\\\\n', '').split()\n",
    "\n",
    "            for i in log:\n",
    "                if i == 'BEGIN':\n",
    "                    valid_log_flag = True\n",
    "                    valid_log = []\n",
    "                elif i in ['Y', 'N'] and valid_log_flag:\n",
    "                    valid_log.append(i)\n",
    "                elif i == 'END' and valid_log_flag:\n",
    "                    # call the previous function to find best closing time\n",
    "                    best_time = find_best_closing_time(\" \".join(valid_log))\n",
    "                    result.append(best_time)\n",
    "                    valid_log_flag = False\n",
    "\n",
    "    return result\n"
   ]
  },
  {
   "cell_type": "code",
   "execution_count": 93,
   "metadata": {},
   "outputs": [
    {
     "data": {
      "text/plain": [
       "[2, 2, 0]"
      ]
     },
     "execution_count": 93,
     "metadata": {},
     "output_type": "execute_result"
    }
   ],
   "source": [
    "get_best_closing_times__v2(\"logs/store_logs_v1.txt\")"
   ]
  },
  {
   "cell_type": "code",
   "execution_count": null,
   "metadata": {},
   "outputs": [],
   "source": []
  }
 ],
 "metadata": {
  "kernelspec": {
   "display_name": "Python 3",
   "language": "python",
   "name": "python3"
  },
  "language_info": {
   "codemirror_mode": {
    "name": "ipython",
    "version": 3
   },
   "file_extension": ".py",
   "mimetype": "text/x-python",
   "name": "python",
   "nbconvert_exporter": "python",
   "pygments_lexer": "ipython3",
   "version": "3.11.6"
  }
 },
 "nbformat": 4,
 "nbformat_minor": 2
}
