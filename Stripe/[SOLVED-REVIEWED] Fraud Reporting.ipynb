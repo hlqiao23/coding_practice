{
 "cells": [
  {
   "cell_type": "markdown",
   "metadata": {},
   "source": [
    "https://www.1point3acres.com/bbs/thread-1044925-1-1.html\n",
    "\n",
    "https://www.1point3acres.com/bbs/thread-1089011-1-1.html\n",
    "\n",
    "### Part 1:\n",
    "\n",
    "given a list of string of comma delimited values:\n",
    "\n",
    "(merchant, card_number, timestamp, amount)\n",
    "\n",
    "parse the values and print out each transaction in chronological order"
   ]
  },
  {
   "cell_type": "code",
   "execution_count": null,
   "metadata": {},
   "outputs": [],
   "source": [
    "from datetime import datetime\n",
    "\n",
    "### LOGIC:\n",
    "# use datetime.strptime(, \"%Y-%m-%d %H:%M:%S\") to parse the time\n",
    "# sort the dictionary by one key value pair in the list of dictionaries\n",
    "\n",
    "def fraud_reporting_part1(input):\n",
    "\n",
    "    data = []\n",
    "    for s in input:\n",
    "        record = s.split(',')\n",
    "        merchant, card, time, amount = record[0], record[1], datetime.strptime(record[2], \"%Y-%m-%d %H:%M:%S\"), float(record[3])\n",
    "        data.append({'merchant': merchant, 'card': card, 'time': time, 'amount': amount})\n",
    "    \n",
    "    sorted_data = sorted(data, key=lambda x: x['time'])\n",
    "\n",
    "    return sorted_data\n"
   ]
  },
  {
   "cell_type": "code",
   "execution_count": 10,
   "metadata": {},
   "outputs": [
    {
     "name": "stdout",
     "output_type": "stream",
     "text": [
      "[{'merchant': 'M1', 'card': '1234', 'time': datetime.datetime(2025, 1, 1, 0, 0), 'amount': 50.0}, {'merchant': 'M2', 'card': '1111', 'time': datetime.datetime(2025, 1, 2, 0, 0), 'amount': 200.0}, {'merchant': 'M3', 'card': '4567', 'time': datetime.datetime(2025, 1, 3, 0, 0), 'amount': 100.0}, {'merchant': 'M4', 'card': '9999', 'time': datetime.datetime(2025, 1, 4, 0, 0), 'amount': 300.0}, {'merchant': 'M5', 'card': '0000', 'time': datetime.datetime(2025, 1, 5, 0, 0), 'amount': 400.0}]\n"
     ]
    }
   ],
   "source": [
    "input = [\n",
    "    \"M1,1234,2025-01-01 00:00:00,50.0\", \n",
    "    \"M2,1111,2025-01-02 00:00:00,200.0\", \n",
    "    \"M3,4567,2025-01-03 00:00:00,100.0\", \n",
    "    \"M4,9999,2025-01-04 00:00:00,300.0\", \n",
    "    \"M5,0000,2025-01-05 00:00:00,400.0\"]\n",
    "\n",
    "print(fraud_reporting_part1(input))"
   ]
  },
  {
   "cell_type": "markdown",
   "metadata": {},
   "source": [
    "### Part 2:\n",
    "\n",
    "in addition to previous input, you are now given a list of fraud report as below. \n",
    "\n",
    "(timestamp, field, value)\n",
    "\n",
    "which means that after a given timestamp, we discovered that this merchant is fraud and should be rejected. \n",
    "\n",
    "print out all the transactions with their \"Accepted/Rejected\" states. "
   ]
  },
  {
   "cell_type": "code",
   "execution_count": 28,
   "metadata": {},
   "outputs": [],
   "source": [
    "def fraud_reporting_part2(input, fraud_report):\n",
    "\n",
    "    data = []\n",
    "    for s in input:\n",
    "        record = s.split(',')\n",
    "        merchant, card, time, amount = record[0], record[1], datetime.strptime(record[2], \"%Y-%m-%d %H:%M:%S\"), float(record[3])\n",
    "        data.append({'merchant': merchant, 'card': card, 'time': time, 'amount': amount, 'state': 'Accepted'})\n",
    "    \n",
    "    sorted_data = sorted(data, key=lambda x: x['time'])\n",
    "\n",
    "    report = []\n",
    "    for r in fraud_report:\n",
    "        record = r.split(',')\n",
    "        time, field, value = datetime.strptime(record[0], \"%Y-%m-%d %H:%M:%S\"), record[1], record[2]\n",
    "        report.append({'time': time, 'field': field, 'value': value})\n",
    "\n",
    "        for d in sorted_data:\n",
    "            if d['time'] >= time and d[field] == value:\n",
    "                d['state'] = 'Rejected'\n",
    "        \n",
    "    return sorted_data    \n"
   ]
  },
  {
   "cell_type": "code",
   "execution_count": 29,
   "metadata": {},
   "outputs": [
    {
     "data": {
      "text/plain": [
       "[{'merchant': 'M1',\n",
       "  'card': '1234',\n",
       "  'time': datetime.datetime(2025, 1, 1, 0, 0),\n",
       "  'amount': 50.0,\n",
       "  'state': 'Accepted'},\n",
       " {'merchant': 'M1',\n",
       "  'card': '1111',\n",
       "  'time': datetime.datetime(2025, 1, 2, 0, 0),\n",
       "  'amount': 200.0,\n",
       "  'state': 'Accepted'},\n",
       " {'merchant': 'M1',\n",
       "  'card': '4567',\n",
       "  'time': datetime.datetime(2025, 1, 3, 0, 0),\n",
       "  'amount': 100.0,\n",
       "  'state': 'Rejected'},\n",
       " {'merchant': 'M1',\n",
       "  'card': '1111',\n",
       "  'time': datetime.datetime(2025, 1, 4, 0, 0),\n",
       "  'amount': 300.0,\n",
       "  'state': 'Rejected'},\n",
       " {'merchant': 'M2',\n",
       "  'card': '1234',\n",
       "  'time': datetime.datetime(2025, 1, 5, 0, 0),\n",
       "  'amount': 400.0,\n",
       "  'state': 'Rejected'}]"
      ]
     },
     "execution_count": 29,
     "metadata": {},
     "output_type": "execute_result"
    }
   ],
   "source": [
    "input = [\n",
    "    \"M1,1234,2025-01-01 00:00:00,50.0\", \n",
    "    \"M1,1111,2025-01-02 00:00:00,200.0\", \n",
    "    \"M1,4567,2025-01-03 00:00:00,100.0\", # rejected by (2025-01-03 00:00:00,merchant,M1)\n",
    "    \"M1,1111,2025-01-04 00:00:00,300.0\", # rejected by (2025-01-03 00:00:00,merchant,M1)\n",
    "    \"M2,1234,2025-01-05 00:00:00,400.0\"  # rejected by (2025-01-04 00:00:00,card,1234)\n",
    "]\n",
    "\n",
    "report = [\n",
    "    \"2025-01-03 00:00:00,merchant,M1\", \n",
    "    \"2025-01-04 00:00:00,card,1234\"\n",
    "]\n",
    "\n",
    "fraud_reporting_part2(input, report)\n"
   ]
  },
  {
   "cell_type": "markdown",
   "metadata": {},
   "source": [
    "### Part 3:\n",
    "calculate the sum of amount lost to fraud (transactions that are accepted but whose merchant or other information are discovered to be fraud)"
   ]
  },
  {
   "cell_type": "code",
   "execution_count": 30,
   "metadata": {},
   "outputs": [],
   "source": [
    "def fraud_reporting_part3(input, fraud_report):\n",
    "\n",
    "    data = []\n",
    "    for s in input:\n",
    "        record = s.split(',')\n",
    "        merchant, card, time, amount = record[0], record[1], datetime.strptime(record[2], \"%Y-%m-%d %H:%M:%S\"), float(record[3])\n",
    "        data.append({'merchant': merchant, 'card': card, 'time': time, 'amount': amount, 'state': 'Accepted'})\n",
    "    \n",
    "    sorted_data = sorted(data, key=lambda x: x['time'])\n",
    "\n",
    "    report = []\n",
    "    # parse the report data, and also update the transaction data state\n",
    "    for r in fraud_report:\n",
    "        record = r.split(',')\n",
    "        time, field, value = datetime.strptime(record[0], \"%Y-%m-%d %H:%M:%S\"), record[1], record[2]\n",
    "        report.append({'time': time, 'field': field, 'value': value, 'loss_amount': 0})\n",
    "\n",
    "        for d in sorted_data:\n",
    "            if d['time'] >= time and d[field] == value:\n",
    "                d['state'] = 'Rejected'\n",
    "    \n",
    "    # re-iterate the report, and calculate the sum of loss\n",
    "    for r in report:\n",
    "        sum_loss = 0\n",
    "        for d in sorted_data:\n",
    "            if d['time'] < r['time'] and d[r['field']] == r['value']:\n",
    "                sum_loss += d['amount']\n",
    "        \n",
    "        r['loss_amount'] = sum_loss\n",
    "             \n",
    "    return report    \n"
   ]
  },
  {
   "cell_type": "code",
   "execution_count": 31,
   "metadata": {},
   "outputs": [
    {
     "data": {
      "text/plain": [
       "[{'time': datetime.datetime(2025, 1, 3, 0, 0),\n",
       "  'field': 'merchant',\n",
       "  'value': 'M1',\n",
       "  'loss_amount': 250.0},\n",
       " {'time': datetime.datetime(2025, 1, 4, 0, 0),\n",
       "  'field': 'card',\n",
       "  'value': '1234',\n",
       "  'loss_amount': 50.0}]"
      ]
     },
     "execution_count": 31,
     "metadata": {},
     "output_type": "execute_result"
    }
   ],
   "source": [
    "input = [\n",
    "    \"M1,1234,2025-01-01 00:00:00,50.0\", \n",
    "    \"M1,1111,2025-01-02 00:00:00,200.0\", \n",
    "    \"M1,4567,2025-01-03 00:00:00,100.0\", # rejected by (2025-01-03 00:00:00,merchant,M1)\n",
    "    \"M1,1111,2025-01-04 00:00:00,300.0\", # rejected by (2025-01-03 00:00:00,merchant,M1)\n",
    "    \"M2,1234,2025-01-05 00:00:00,400.0\"  # rejected by (2025-01-04 00:00:00,card,1234)\n",
    "]\n",
    "\n",
    "report = [\n",
    "    \"2025-01-03 00:00:00,merchant,M1\", \n",
    "    \"2025-01-04 00:00:00,card,1234\"\n",
    "]\n",
    "\n",
    "fraud_reporting_part3(input, report)\n"
   ]
  }
 ],
 "metadata": {
  "kernelspec": {
   "display_name": "Python 3",
   "language": "python",
   "name": "python3"
  },
  "language_info": {
   "codemirror_mode": {
    "name": "ipython",
    "version": 3
   },
   "file_extension": ".py",
   "mimetype": "text/x-python",
   "name": "python",
   "nbconvert_exporter": "python",
   "pygments_lexer": "ipython3",
   "version": "3.11.6"
  }
 },
 "nbformat": 4,
 "nbformat_minor": 2
}
