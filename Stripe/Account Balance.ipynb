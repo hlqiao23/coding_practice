{
 "cells": [
  {
   "cell_type": "markdown",
   "metadata": {},
   "source": [
    "https://www.1point3acres.com/bbs/forum.php?mod=viewthread&tid=891817&highlight=stripe\n",
    "\n",
    "At Stripe we keep track of where the money is and move money between bank accounts to make sure their balances are not below some threshold. This is for operational and regulatory reasons, e.g. we should have enough funds to pay out to our users, and we are legally required to separate our users' funds from our own. This interview question is a simplified version of a real-world problem we have here.\n",
    "\n",
    "Let's say there are at most 500 bank accounts, some of their balances are above 100 and some are below. How do you move money between them so that they all have at least 100?\n",
    "\n",
    "Just to be clear we are not looking for the optimal solution, but a working one.\n",
    "\n",
    "Example input:\n",
    "- AU: 80\n",
    "- US: 140\n",
    "- MX: 110\n",
    "- SG: 120\n",
    "- FR: 70\n",
    "Output:\n",
    "- from: US, to: AU, amount: 20  \n",
    "- from: US, to: FR, amount: 20\n",
    "- from: MX, to: FR, amount: 10"
   ]
  },
  {
   "cell_type": "markdown",
   "metadata": {},
   "source": []
  },
  {
   "cell_type": "code",
   "execution_count": null,
   "metadata": {},
   "outputs": [
    {
     "name": "stdout",
     "output_type": "stream",
     "text": [
      "[{'from': 'US', 'to': 'AU', 'amount': 20}, {'from': 'US', 'to': 'FR', 'amount': 20}, {'from': 'MX', 'to': 'FR', 'amount': 10}]\n"
     ]
    }
   ],
   "source": [
    "### LOGIC:\n",
    "# key is to separate the accounts based on type\n",
    "# outer loop: surplus accounts\n",
    "# inner loops: deficit accounts with while clause (checking if this iteration's surplus still has amount)\n",
    "\n",
    "accounts = {\"AU\": 80, \"US\": 140, \"MX\": 110, \"SG\": 120, \"FR\": 70}\n",
    "\n",
    "THRESHOLD = 100\n",
    "transactions = []\n",
    "\n",
    "# separate the accounts based on the fundings\n",
    "deficit_accounts = {k: THRESHOLD - v for k, v in accounts.items() if v < THRESHOLD}\n",
    "surplus_accounts = {k: v - THRESHOLD for k, v in accounts.items() if v > THRESHOLD}\n",
    "\n",
    "# redistribution\n",
    "for source_acc, surplus in surplus_accounts.items():\n",
    "    while surplus > 0 and deficit_accounts:\n",
    "        # picks the first account from the deficit_accounts dictionary that needs money\n",
    "        target_acc, deficit = next(iter(deficit_accounts.items()))\n",
    "        transfer_amount = min(surplus, deficit)\n",
    "\n",
    "        # record the transactions\n",
    "        transactions.append({\"from\": source_acc, \"to\": target_acc, \"amount\": transfer_amount})\n",
    "\n",
    "        # update the balance\n",
    "        deficit_accounts[target_acc] -= transfer_amount\n",
    "        # surplus will always be >= 0\n",
    "        surplus -= transfer_amount\n",
    "\n",
    "        # remove fully satified deficit accounts\n",
    "        if deficit_accounts[target_acc] == 0:\n",
    "            del deficit_accounts[target_acc]\n",
    "\n",
    "print(transactions)\n",
    "\n"
   ]
  },
  {
   "cell_type": "code",
   "execution_count": null,
   "metadata": {},
   "outputs": [],
   "source": []
  }
 ],
 "metadata": {
  "kernelspec": {
   "display_name": "Python 3",
   "language": "python",
   "name": "python3"
  },
  "language_info": {
   "codemirror_mode": {
    "name": "ipython",
    "version": 3
   },
   "file_extension": ".py",
   "mimetype": "text/x-python",
   "name": "python",
   "nbconvert_exporter": "python",
   "pygments_lexer": "ipython3",
   "version": "3.11.6"
  }
 },
 "nbformat": 4,
 "nbformat_minor": 2
}
