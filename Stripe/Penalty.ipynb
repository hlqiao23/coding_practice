{
 "cells": [
  {
   "cell_type": "markdown",
   "metadata": {},
   "source": [
    "https://www.1point3acres.com/bbs/thread-831026-1-1.html\n",
    "\n",
    "https://www.1point3acres.com/bbs/thread-1032751-1-1.html\n",
    "\n",
    "https://www.1point3acres.com/bbs/thread-780948-2-1.html\n",
    "\n",
    "https://www.1point3acres.com/bbs/thread-771600-1-1.html"
   ]
  },
  {
   "cell_type": "markdown",
   "metadata": {},
   "source": []
  }
 ],
 "metadata": {
  "language_info": {
   "name": "python"
  }
 },
 "nbformat": 4,
 "nbformat_minor": 2
}
