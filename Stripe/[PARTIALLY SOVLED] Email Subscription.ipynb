{
 "cells": [
  {
   "cell_type": "markdown",
   "metadata": {},
   "source": [
    "https://www.1point3acres.com/bbs/thread-1086943-1-1.html\n",
    "\n",
    "### Problem\n",
    "题干如下：\n",
    "subscription: list of users {name, plan, begin_date, duration}，要求按顺序发email (plan当天发welcome, -15 days发upcoming expiration，expire当天发expire)\n",
    "\n",
    "例如：\n",
    "```python\n",
    "users = [{name: A, plan: X, begin_date = 0, duration = 30}, {name: B, plan: Y, begin_date = 1, duration = 15}]\n",
    "```\n",
    "输出\n",
    "```\n",
    "0: [Welcome] A, subscribe in plan X\n",
    "1: [Welcome] B, subscribe in plan Y\n",
    "1: [Upcoming expiration] B, subscribe in plan Y\n",
    "15: [Upcoming expiration] A, subscribe in plan X\n",
    "16: [Expired] B, subcribe in plan Y\n",
    "30: [Expired] A, subscribe in plan X\n",
    "```\n",
    "\n",
    "第二问：基础上增加一个change in plans, list of changes {name, new_plan, change_date}\n",
    "第三问是bonus，第二问的基础上再加一个renew，change list中entry为 {name, extension, change_date}\n"
   ]
  },
  {
   "cell_type": "code",
   "execution_count": 9,
   "metadata": {},
   "outputs": [],
   "source": [
    "users = [\n",
    "    {'name': 'A', 'plan': 'X', 'begin_date': 0, 'duration': 30}, \n",
    "    {'name': 'B', 'plan': 'Y', 'begin_date': 1, 'duration': 15}\n",
    "]"
   ]
  },
  {
   "cell_type": "code",
   "execution_count": 23,
   "metadata": {},
   "outputs": [],
   "source": [
    "def email_subscription(users):\n",
    "    email_list = []\n",
    "\n",
    "    for user in users:\n",
    "        # add welcome email\n",
    "        welcome_email = f\"{user['begin_date']}: [Welcome] {user['name']}, subscribe in plan {user['plan']}\"\n",
    "        print(welcome_email)\n",
    "\n",
    "        # add upcoming expiration email\n",
    "        reminder_email = f\"{user['begin_date'] + user['duration'] - 15 + 1}: [Upcoming expiration] {user['name']}, subscribe in plan {user['plan']}\"\n",
    "        print(reminder_email)\n",
    "\n",
    "        # add expiration email\n",
    "        exp_email = f\"{user['begin_date'] + user['duration']}: [Expired] {user['name']}, subscribe in plan {user['plan']}\"\n",
    "        print(exp_email)\n",
    "\n",
    "\n",
    "\n"
   ]
  },
  {
   "cell_type": "code",
   "execution_count": 24,
   "metadata": {},
   "outputs": [
    {
     "name": "stdout",
     "output_type": "stream",
     "text": [
      "0: [Welcome] A, subscribe in plan X\n",
      "16: [Upcoming expiration] A, subscribe in plan X\n",
      "30: [Expired] A, subscribe in plan X\n",
      "1: [Welcome] B, subscribe in plan Y\n",
      "2: [Upcoming expiration] B, subscribe in plan Y\n",
      "16: [Expired] B, subscribe in plan Y\n"
     ]
    }
   ],
   "source": [
    "email_subscription(users)"
   ]
  },
  {
   "cell_type": "code",
   "execution_count": null,
   "metadata": {},
   "outputs": [],
   "source": []
  }
 ],
 "metadata": {
  "kernelspec": {
   "display_name": "Python 3",
   "language": "python",
   "name": "python3"
  },
  "language_info": {
   "codemirror_mode": {
    "name": "ipython",
    "version": 3
   },
   "file_extension": ".py",
   "mimetype": "text/x-python",
   "name": "python",
   "nbconvert_exporter": "python",
   "pygments_lexer": "ipython3",
   "version": "3.11.6"
  }
 },
 "nbformat": 4,
 "nbformat_minor": 2
}
