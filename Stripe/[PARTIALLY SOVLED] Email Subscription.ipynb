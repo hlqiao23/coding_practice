{
 "cells": [
  {
   "cell_type": "markdown",
   "metadata": {},
   "source": [
    "https://www.1point3acres.com/bbs/thread-1086943-1-1.html\n",
    "\n",
    "### Part 1\n",
    "题干如下：\n",
    "subscription: list of users {name, plan, begin_date, duration}，要求按顺序发email (plan当天发welcome, -15 days发upcoming expiration，expire当天发expire)\n",
    "\n",
    "例如：\n",
    "```python\n",
    "users = [{name: A, plan: X, begin_date = 0, duration = 30}, {name: B, plan: Y, begin_date = 1, duration = 15}]\n",
    "```\n",
    "输出\n",
    "```\n",
    "0: [Welcome] A, subscribe in plan X\n",
    "1: [Welcome] B, subscribe in plan Y\n",
    "1: [Upcoming expiration] B, subscribe in plan Y\n",
    "15: [Upcoming expiration] A, subscribe in plan X\n",
    "16: [Expired] B, subcribe in plan Y\n",
    "30: [Expired] A, subscribe in plan X\n",
    "```\n",
    "### Part 2\n",
    "第二问：基础上增加一个change in plans, list of changes {name, new_plan, change_date}\n",
    "\n",
    "```python\n",
    "users = [{name: A, plan: X, begin_date = 0, duration = 30}, {name: B, plan: Y, begin_date = 1, duration = 15}]\n",
    "changes = [{name: A, new_plan: Y, change_date = 5}]\n",
    "输出\n",
    "0: [Welcome] A, subscribe in plan X\n",
    "1: [Welcome] B, subscribe in plan Y\n",
    "1: [Upcoming expiration] B, subscribe in plan Y\n",
    "5: [Changed] A, subscribe in plan Y\n",
    "15: [Upcoming expiration] A, subscribe in plan Y\n",
    "16: [Expired] B, subcribe in plan Y\n",
    "30: [Expired] A, subscribe in plan Y```\n",
    "\n",
    "第三问是bonus，第二问的基础上再加一个renew，change list中entry为 {name, extension, change_date}\n"
   ]
  },
  {
   "cell_type": "code",
   "execution_count": 78,
   "metadata": {},
   "outputs": [],
   "source": [
    "def email_subscription_pt1(users):\n",
    "    email_list = []\n",
    "\n",
    "    for user in users:\n",
    "        # add welcome email\n",
    "        welcome_email = f\"{user['begin_date']}: [Welcome] {user['name']}, subscribe in plan {user['plan']}\"\n",
    "        email_list.append(welcome_email)\n",
    "\n",
    "        # add upcoming expiration email\n",
    "        reminder_email = f\"{user['begin_date'] + user['duration'] - 15}: [Upcoming expiration] {user['name']}, subscribe in plan {user['plan']}\"\n",
    "        email_list.append(reminder_email)\n",
    "\n",
    "        # add expiration email\n",
    "        exp_email = f\"{user['begin_date'] + user['duration']}: [Expired] {user['name']}, subscribe in plan {user['plan']}\"\n",
    "        email_list.append(exp_email)\n",
    "\n",
    "    return sorted(email_list, key=lambda x: int(x.split(':')[0]))"
   ]
  },
  {
   "cell_type": "code",
   "execution_count": 79,
   "metadata": {},
   "outputs": [
    {
     "data": {
      "text/plain": [
       "['0: [Welcome] A, subscribe in plan X',\n",
       " '1: [Welcome] B, subscribe in plan Y',\n",
       " '1: [Upcoming expiration] B, subscribe in plan Y',\n",
       " '15: [Upcoming expiration] A, subscribe in plan X',\n",
       " '16: [Expired] B, subscribe in plan Y',\n",
       " '30: [Expired] A, subscribe in plan X']"
      ]
     },
     "execution_count": 79,
     "metadata": {},
     "output_type": "execute_result"
    }
   ],
   "source": [
    "users = [\n",
    "    {'name': 'A', 'plan': 'X', 'begin_date': 0, 'duration': 30}, \n",
    "    {'name': 'B', 'plan': 'Y', 'begin_date': 1, 'duration': 15}\n",
    "]\n",
    "email_subscription_pt1(users)"
   ]
  },
  {
   "cell_type": "code",
   "execution_count": 83,
   "metadata": {},
   "outputs": [],
   "source": [
    "def email_subscription_pt2(users, changes):\n",
    "    email_list = []\n",
    "\n",
    "    users_with_changes = [change['name'] for change in changes]\n",
    "\n",
    "    for record in users:\n",
    "        user, plan, begin_date, reminder_date, end_date = record['name'], record['plan'], int(record['begin_date']), int(record['begin_date']) + int(record['duration']) - 15, int(record['begin_date']) + int(record['duration'])\n",
    "        if user not in users_with_changes:\n",
    "            email_list.append(f\"{begin_date}: [Welcome] {user}, subscribe in plan {plan}\")\n",
    "            email_list.append(f\"{reminder_date}: [Upcoming Expiration] {user}, subscribe in plan {plan}\")\n",
    "            email_list.append(f\"{end_date}: [Expired] {user}, subscribe in plan {plan}\")\n",
    "        else:    \n",
    "            for change in changes:\n",
    "                # check if there are associated changes for this user\n",
    "                if change['name'] == user:\n",
    "                    email_list.append(f\"{begin_date}: [Welcome] {user}, subscribe in plan {plan}\")\n",
    "                    email_list.append(f\"{change['change_date']}: [Changed] {user}, subscribe in plan {change['new_plan']}\")\n",
    "                    if change['change_date'] < reminder_date:\n",
    "                        email_list.append(f\"{reminder_date}: [Upcoming Expiration] {user}, subscribe in plan {change['new_plan']}\")\n",
    "                    else:\n",
    "                        email_list.append(f\"{reminder_date}: [Upcoming Expiration] {user}, subscribe in plan {plan}\")\n",
    "                    email_list.append(f\"{end_date}: [Expired] {user}, subscribe in plan {change['new_plan']}\")\n",
    "               \n",
    "    return sorted(email_list, key=lambda x: int(x.split(':')[0]))"
   ]
  },
  {
   "cell_type": "code",
   "execution_count": 84,
   "metadata": {},
   "outputs": [
    {
     "data": {
      "text/plain": [
       "['0: [Welcome] A, subscribe in plan X',\n",
       " '1: [Welcome] B, subscribe in plan Y',\n",
       " '1: [Upcoming Expiration] B, subscribe in plan Y',\n",
       " '5: [Changed] A, subscribe in plan Y',\n",
       " '15: [Upcoming Expiration] A, subscribe in plan Y',\n",
       " '16: [Expired] B, subscribe in plan Y',\n",
       " '30: [Expired] A, subscribe in plan Y']"
      ]
     },
     "execution_count": 84,
     "metadata": {},
     "output_type": "execute_result"
    }
   ],
   "source": [
    "users = [\n",
    "    {'name': 'A', 'plan': 'X', 'begin_date': 0, 'duration': 30}, \n",
    "    {'name': 'B', 'plan': 'Y', 'begin_date': 1, 'duration': 15}\n",
    "]\n",
    "\n",
    "changes = [{'name': 'A', 'new_plan': 'Y', 'change_date': 5}]\n",
    "\n",
    "email_subscription_pt2(users, changes)"
   ]
  },
  {
   "cell_type": "code",
   "execution_count": 124,
   "metadata": {},
   "outputs": [],
   "source": [
    "def email_subscription_pt3(users, changes):\n",
    "    email_list = []\n",
    "\n",
    "    users_with_changes = [change['name'] for change in changes]\n",
    "\n",
    "    for record in users:\n",
    "        user, plan, begin_date, reminder_date, end_date = record['name'], record['plan'], int(record['begin_date']), int(record['begin_date']) + int(record['duration']) - 15, int(record['begin_date']) + int(record['duration'])\n",
    "\n",
    "        if user not in users_with_changes:\n",
    "            email_list.append(f\"{begin_date}: [Welcome] {user}, subscribe in plan {plan}\")\n",
    "            email_list.append(f\"{reminder_date}: [Upcoming Expiration] {user}, subscribe in plan {plan}\")\n",
    "            email_list.append(f\"{end_date}: [Expired] {user}, subscribe in plan {plan}\")            \n",
    "\n",
    "        for change in changes:\n",
    "            # check if there are associated changes for this user\n",
    "            if change['name'] == user:\n",
    "                # first situation of change\n",
    "                if 'new_plan' in change:\n",
    "                    email_list.append(f\"{begin_date}: [Welcome] {user}, subscribe in plan {plan}\")\n",
    "                    email_list.append(f\"{change['change_date']}: [Changed] {user}, subscribe in plan {change['new_plan']}\")\n",
    "                    if change['change_date'] < reminder_date:\n",
    "                        email_list.append(f\"{reminder_date}: [Upcoming Expiration] {user}, subscribe in plan {change['new_plan']}\")\n",
    "                    else:\n",
    "                        email_list.append(f\"{reminder_date}: [Upcoming Expiration] {user}, subscribe in plan {plan}\")\n",
    "                    email_list.append(f\"{end_date}: [Expired] {user}, subscribe in plan {change['new_plan']}\")\n",
    "                \n",
    "                # second situation of change\n",
    "                if 'extension' in change:\n",
    "                    email_list.append(f\"{begin_date}: [Welcome] {user}, subscribe in plan {plan}\")\n",
    "                    email_list.append(f\"{change['change_date']}: [Changed] {user}, subscribe in plan {plan}\")\n",
    "                    if reminder_date < change['change_date']:\n",
    "                        email_list.append(f\"{reminder_date}: [Upcoming Expiration] {user}, subscribe in plan {plan}\")\n",
    "                    # calculate the new reminder date based on extension\n",
    "                    new_end_date = end_date + change['extension']\n",
    "                    new_reminder_date = reminder_date + change['extension']\n",
    "                    email_list.append(f\"{new_reminder_date}: [Upcoming Expiration] {user}, subscribe in plan {plan}\")\n",
    "                    email_list.append(f\"{new_end_date}: [Expired] {user}, subscribe in plan {plan}\")\n",
    "        \n",
    "    return sorted(email_list, key=lambda x: int(x.split(':')[0]))\n"
   ]
  },
  {
   "cell_type": "code",
   "execution_count": 125,
   "metadata": {},
   "outputs": [
    {
     "data": {
      "text/plain": [
       "['0: [Welcome] A, subscribe in plan X',\n",
       " '1: [Welcome] B, subscribe in plan Y',\n",
       " '1: [Upcoming Expiration] B, subscribe in plan Y',\n",
       " '3: [Changed] B, subscribe in plan Y',\n",
       " '5: [Changed] A, subscribe in plan Y',\n",
       " '15: [Upcoming Expiration] A, subscribe in plan Y',\n",
       " '16: [Upcoming Expiration] B, subscribe in plan Y',\n",
       " '30: [Expired] A, subscribe in plan Y',\n",
       " '31: [Expired] B, subscribe in plan Y']"
      ]
     },
     "execution_count": 125,
     "metadata": {},
     "output_type": "execute_result"
    }
   ],
   "source": [
    "users = [\n",
    "    {'name': 'A', 'plan': 'X', 'begin_date': 0, 'duration': 30}, \n",
    "    {'name': 'B', 'plan': 'Y', 'begin_date': 1, 'duration': 15}\n",
    "]\n",
    "\n",
    "changes = [{'name': 'A', 'new_plan': 'Y', 'change_date': 5}, \n",
    "           {'name': 'B', 'extension': 15, 'change_date': 3}]\n",
    "\n",
    "email_subscription_pt3(users, changes)\n"
   ]
  },
  {
   "cell_type": "code",
   "execution_count": 122,
   "metadata": {},
   "outputs": [],
   "source": [
    "def email_subscription_pt3(users, changes):\n",
    "\n",
    "    for record in users:\n",
    "        print(record['name'])\n",
    "        begin_date = record['begin_date']\n",
    "        plans = [record['plan']]*record['duration']\n",
    "        print(plans)\n",
    "\n",
    "        for change in changes:\n",
    "            if change['name'] == record['name']:\n",
    "                # first situation of change: change plan\n",
    "                if 'new_plan' in change:\n",
    "                    start_of_change = change['change_date'] - begin_date \n",
    "                    plans[(start_of_change):] = change['new_plan'] * (len(plans) - start_of_change)\n",
    "            \n",
    "                if 'extension' in change:\n",
    "                    new_plans = [record['plan']] * change['extension']\n",
    "                    plans += new_plans\n",
    "            \n",
    "        print(plans)\n"
   ]
  },
  {
   "cell_type": "code",
   "execution_count": 123,
   "metadata": {},
   "outputs": [
    {
     "name": "stdout",
     "output_type": "stream",
     "text": [
      "A\n",
      "['X', 'X', 'X', 'X', 'X', 'X', 'X', 'X', 'X', 'X', 'X', 'X', 'X', 'X', 'X', 'X', 'X', 'X', 'X', 'X', 'X', 'X', 'X', 'X', 'X', 'X', 'X', 'X', 'X', 'X']\n",
      "['X', 'X', 'X', 'X', 'X', 'Y', 'Y', 'Y', 'Y', 'Y', 'Y', 'Y', 'Y', 'Y', 'Y', 'Y', 'Y', 'Y', 'Y', 'Y', 'Y', 'Y', 'Y', 'Y', 'Y', 'Y', 'Y', 'Y', 'Y', 'Y']\n",
      "B\n",
      "['Y', 'Y', 'Y', 'Y', 'Y', 'Y', 'Y', 'Y', 'Y', 'Y', 'Y', 'Y', 'Y', 'Y', 'Y']\n",
      "['Y', 'Y', 'Y', 'Y', 'Y', 'Y', 'Y', 'Y', 'Y', 'Y', 'Y', 'Y', 'Y', 'Y', 'Y', 'Y', 'Y', 'Y', 'Y', 'Y', 'Y', 'Y', 'Y', 'Y', 'Y', 'Y', 'Y', 'Y', 'Y', 'Y']\n"
     ]
    }
   ],
   "source": [
    "email_subscription_pt3(users, changes)"
   ]
  },
  {
   "cell_type": "code",
   "execution_count": null,
   "metadata": {},
   "outputs": [],
   "source": []
  }
 ],
 "metadata": {
  "kernelspec": {
   "display_name": "Python 3",
   "language": "python",
   "name": "python3"
  },
  "language_info": {
   "codemirror_mode": {
    "name": "ipython",
    "version": 3
   },
   "file_extension": ".py",
   "mimetype": "text/x-python",
   "name": "python",
   "nbconvert_exporter": "python",
   "pygments_lexer": "ipython3",
   "version": "3.11.6"
  }
 },
 "nbformat": 4,
 "nbformat_minor": 2
}
