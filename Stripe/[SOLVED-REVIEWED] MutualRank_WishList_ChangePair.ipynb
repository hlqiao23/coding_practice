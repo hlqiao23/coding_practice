{
 "cells": [
  {
   "cell_type": "markdown",
   "metadata": {},
   "source": [
    "https://www.1point3acres.com/bbs/thread-793699-1-1.html\n",
    "\n",
    "https://www.1point3acres.com/bbs/thread-790131-1-1.html\n",
    "\n",
    "https://www.1point3acres.com/bbs/thread-778390-1-1.html\n",
    "\n",
    "https://www.1point3acres.com/bbs/thread-769296-1-1.html\n",
    "\n",
    "https://www.1point3acres.com/bbs/thread-756692-1-1.html\n",
    "\n",
    "https://www.1point3acres.com/bbs/thread-745268-1-1.html\n",
    "\n",
    "### Part 1\n",
    "\n",
    "给一个user map，比如 {a: [c,d], c: [a]}，key是不同的user，value是其他user的ranking。然后实现hasMutualRank(a)，如果a的第一rank user恰好也把a作为第一rank，那么return true\n",
    "\n",
    "### Part 2\n",
    "\n",
    "在第一题的基础上改动，rank作为变量, hasMutualRank(a, rank)。第一题就相当于hasMutualRank(a, 0)\n",
    "\n",
    "### Part 3\n",
    "如果rank有浮动，rank和rank - 1都可以算作hasMutualRank，输出所有有mutual rank的user pair\n",
    "\n",
    "### Part 4\n",
    "Anti-ranking. 比如 {a: [b,c,d], b: [d,c,a]}，b是a的第一rank，同时a是b的倒数第一rank，这个才能算作hasAntiMutualRank。Follow-up是如果这个anti-rank也是像part 3是浮动的怎么办"
   ]
  },
  {
   "cell_type": "code",
   "execution_count": null,
   "metadata": {},
   "outputs": [],
   "source": [
    "def hasMutualRank(user_map, user):\n",
    "\n",
    "    ### LOGIC:\n",
    "    # check if this user in the user_map\n",
    "    # check if this user has friends \n",
    "    # check if the mutual rank friend is in user_map (we need this to find mutual rank friend's friend)\n",
    "    # check if mutual rank friend's same rank == user\n",
    "\n",
    "    # get friend list from current user\n",
    "    friends = user_map.get(user, [])\n",
    "\n",
    "    # no friends for current user\n",
    "    if len(friends) == 0:\n",
    "        return False\n",
    "    \n",
    "    mutual_rank_user = friends[0]\n",
    "\n",
    "    # mutural rank user is not in the user map\n",
    "    if mutual_rank_user not in user_map:\n",
    "        return False\n",
    "    \n",
    "    # mutual rank user has an empty list of friends\n",
    "    if len(user_map[mutual_rank_user]) == 0:\n",
    "        return False\n",
    "    \n",
    "    return user_map[mutual_rank_user][0] == user  "
   ]
  },
  {
   "cell_type": "code",
   "execution_count": 6,
   "metadata": {},
   "outputs": [
    {
     "name": "stdout",
     "output_type": "stream",
     "text": [
      "True\n",
      "True\n"
     ]
    }
   ],
   "source": [
    "user_map = {'a': ['c', 'd'], 'c':['a']}\n",
    "print(hasMutualRank(user_map, 'a'))\n",
    "print(hasMutualRank(user_map, 'c'))"
   ]
  },
  {
   "cell_type": "code",
   "execution_count": 7,
   "metadata": {},
   "outputs": [
    {
     "name": "stdout",
     "output_type": "stream",
     "text": [
      "True\n",
      "True\n",
      "False\n"
     ]
    }
   ],
   "source": [
    "user_map = {'a': ['c', 'd'], 'c':['a'], 'd':['a']}\n",
    "print(hasMutualRank(user_map, 'a'))\n",
    "print(hasMutualRank(user_map, 'c'))\n",
    "print(hasMutualRank(user_map, 'd'))"
   ]
  },
  {
   "cell_type": "code",
   "execution_count": 1,
   "metadata": {},
   "outputs": [],
   "source": [
    "### part 2\n",
    "def hasMutualRank_Pt2(user_map, user, rank):\n",
    "\n",
    "    ### LOGIC:\n",
    "    # based on part 1, further check if there are enough friends to get specified rank either way\n",
    "\n",
    "    # get friend list from current user\n",
    "    friends = user_map.get(user, [])\n",
    "\n",
    "    # speicified rank is not included in the friend list\n",
    "    # rank starts from 0\n",
    "    if len(friends) < rank+1:\n",
    "        return False\n",
    "    \n",
    "    mutual_rank_user = friends[rank]\n",
    "\n",
    "    # mutural rank user is not in the user map\n",
    "    if mutual_rank_user not in user_map:\n",
    "        return False\n",
    "    \n",
    "    # mutual rank user does not have enough friends\n",
    "    if len(user_map[mutual_rank_user]) < rank+1:\n",
    "        return False\n",
    "    \n",
    "    return user_map[mutual_rank_user][rank] == user  "
   ]
  },
  {
   "cell_type": "code",
   "execution_count": 2,
   "metadata": {},
   "outputs": [
    {
     "name": "stdout",
     "output_type": "stream",
     "text": [
      "True\n",
      "True\n",
      "True\n",
      "False\n"
     ]
    }
   ],
   "source": [
    "user_map = {'a': ['c', 'd'], 'b':['a', 'd'], 'c':['a'], 'd':['b', 'a']}\n",
    "print(hasMutualRank_Pt2(user_map, 'a', 0))\n",
    "print(hasMutualRank_Pt2(user_map, 'c', 0))\n",
    "print(hasMutualRank_Pt2(user_map, 'd', 1))\n",
    "print(hasMutualRank_Pt2(user_map, 'd', 0))"
   ]
  },
  {
   "cell_type": "code",
   "execution_count": null,
   "metadata": {},
   "outputs": [],
   "source": [
    "### part 3\n",
    "def swapRank(user_map, user, rank):\n",
    "\n",
    "    ### LOGIC:\n",
    "    # use part 2 to check true or false\n",
    "    # make the swap before calling part 2\n",
    "    result = []\n",
    "\n",
    "    # without swapping, re-use the part 2 function to check if mutual rank user exists or not\n",
    "    if hasMutualRank_Pt2(user_map, user, rank):\n",
    "        result.append((user, user_map[user][rank]))\n",
    "    \n",
    "    # check if the rank is able to swap (here only considers the situation that swap rank and rank-1)\n",
    "    if rank >= 1:\n",
    "        swapped_user_map = user_map\n",
    "        swapped_user_map[user][rank-1], swapped_user_map[user][rank] = swapped_user_map[user][rank], swapped_user_map[user][rank-1]\n",
    "        if hasMutualRank_Pt2(swapped_user_map, user, rank):\n",
    "            result.append((user, swapped_user_map[user][rank]))\n",
    "    \n",
    "    return result"
   ]
  },
  {
   "cell_type": "code",
   "execution_count": 24,
   "metadata": {},
   "outputs": [
    {
     "name": "stdout",
     "output_type": "stream",
     "text": [
      "[('c', 'a'), ('c', 'd')]\n"
     ]
    }
   ],
   "source": [
    "user_map = {'a': ['b', 'c', 'd'], 'b':['a', 'c', 'd'], 'c':['d', 'a'], 'd':['a', 'c']}\n",
    "print(swapRank(user_map, 'c', 1))"
   ]
  },
  {
   "cell_type": "code",
   "execution_count": 36,
   "metadata": {},
   "outputs": [],
   "source": [
    "### part 4\n",
    "def AntiRank(user_map, user, rank):\n",
    "\n",
    "\n",
    "    # get the list of friends of current user\n",
    "    friends = user_map.get(user, [])\n",
    "\n",
    "    # enough friends from current user\n",
    "    if len(friends) < rank+1:\n",
    "        return False\n",
    "\n",
    "    anti_rank_user = user_map[user][rank]\n",
    "\n",
    "    # anti rank user not in the user map\n",
    "    if anti_rank_user not in user_map:\n",
    "        return False\n",
    "\n",
    "    if len(user_map[anti_rank_user]) < rank+1:\n",
    "        return False\n",
    "\n",
    "    return user == user_map[anti_rank_user][-(rank+1)]"
   ]
  },
  {
   "cell_type": "code",
   "execution_count": 37,
   "metadata": {},
   "outputs": [
    {
     "name": "stdout",
     "output_type": "stream",
     "text": [
      "True\n",
      "True\n"
     ]
    }
   ],
   "source": [
    "user_map = {'a': ['b','c','d'], 'b': ['d','c','a'], 'c': ['d','a','d']}\n",
    "print(AntiRank(user_map, 'a', 0))\n",
    "print(AntiRank(user_map, 'c', 1))"
   ]
  }
 ],
 "metadata": {
  "kernelspec": {
   "display_name": "Python 3",
   "language": "python",
   "name": "python3"
  },
  "language_info": {
   "codemirror_mode": {
    "name": "ipython",
    "version": 3
   },
   "file_extension": ".py",
   "mimetype": "text/x-python",
   "name": "python",
   "nbconvert_exporter": "python",
   "pygments_lexer": "ipython3",
   "version": "3.11.6"
  }
 },
 "nbformat": 4,
 "nbformat_minor": 2
}
