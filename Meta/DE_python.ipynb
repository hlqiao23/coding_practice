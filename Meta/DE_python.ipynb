{
 "cells": [
  {
   "cell_type": "markdown",
   "metadata": {},
   "source": [
    "Given a number (int), return the smallest nonnegative integer that can be formed by using the odd digits of the given number. \n",
    "\n",
    "E.g., given 62315 -> 135; 260 -> None; -25 -> 5\n"
   ]
  },
  {
   "cell_type": "code",
   "execution_count": 7,
   "metadata": {},
   "outputs": [],
   "source": [
    "from collections import defaultdict\n",
    "def number_construction(n):\n",
    "\n",
    "    odd_digits_counts = defaultdict(int)\n",
    "\n",
    "    for c in str(abs(n)):\n",
    "        if int(c) % 2 == 1:\n",
    "            odd_digits_counts[c] += 1\n",
    "\n",
    "    result = \"\"\n",
    "    for i in '13579':\n",
    "        result += i * odd_digits_counts[i] \n",
    "    \n",
    "    return int(result) if len(result) > 0 else None"
   ]
  },
  {
   "cell_type": "code",
   "execution_count": 8,
   "metadata": {},
   "outputs": [
    {
     "name": "stdout",
     "output_type": "stream",
     "text": [
      "135\n",
      "None\n",
      "5\n"
     ]
    }
   ],
   "source": [
    "print(number_construction(62315))\n",
    "print(number_construction(260))\n",
    "print(number_construction(-25))"
   ]
  },
  {
   "cell_type": "markdown",
   "metadata": {},
   "source": [
    "Given a dictionary with customer as key and comments as values, return the comment that appears the most frequent. If multiple comments appeared the same number of times, return any one of them.\n",
    "\n",
    "E.g., comments = { “Peter”: [“great place”, “Good selections”, “good atmosphere”, “good atmosphere”],\n",
    "“John”: [“great place”, “more choices”]}\n",
    "\n",
    "—> return “great place”"
   ]
  },
  {
   "cell_type": "code",
   "execution_count": 9,
   "metadata": {},
   "outputs": [],
   "source": [
    "from collections import defaultdict \n",
    "\n",
    "def most_frequent_comments(comments):\n",
    "    comment_all_dict = defaultdict(int)\n",
    "\n",
    "    for comment_list in comments.values():\n",
    "        comment_set = set(comment_list)\n",
    "        for c in comment_set:\n",
    "            comment_all_dict[c] += 1\n",
    "        \n",
    "    max_freq = max(comment_all_dict.values())\n",
    "\n",
    "    result = [k for k, v in comment_all_dict.items() if v == max_freq]\n",
    "\n",
    "    return result"
   ]
  },
  {
   "cell_type": "code",
   "execution_count": 10,
   "metadata": {},
   "outputs": [
    {
     "name": "stdout",
     "output_type": "stream",
     "text": [
      "['great place']\n"
     ]
    }
   ],
   "source": [
    "comments = { \"Peter\": [\"great place\", \"Good selections\", \"good atmosphere\", \"good atmosphere\"],\n",
    "\"John\": [\"great place\", \"more choices\"]}\n",
    "\n",
    "print(most_frequent_comments(comments))"
   ]
  },
  {
   "cell_type": "markdown",
   "metadata": {},
   "source": [
    "Find the most class number courses in two consecutive years/people attend most meetings, \n",
    "\n",
    "class number courses = [('chemistry',4,2010,2014), ('math',2,2008,2012)] --> and the result is 12"
   ]
  },
  {
   "cell_type": "code",
   "execution_count": 11,
   "metadata": {},
   "outputs": [],
   "source": [
    "class Course:\n",
    "    def __init__(self, name, size, start, end):\n",
    "        self.name = name\n",
    "        self.size = size\n",
    "        self.start = start\n",
    "        self.end = end\n",
    "    "
   ]
  },
  {
   "cell_type": "code",
   "execution_count": 14,
   "metadata": {},
   "outputs": [],
   "source": [
    "chemistry = Course('chemistry',4,2010,2014)\n",
    "math = Course('math',2,2008,2012)\n",
    "class_number_list = [chemistry, math]"
   ]
  },
  {
   "cell_type": "code",
   "execution_count": null,
   "metadata": {},
   "outputs": [
    {
     "name": "stdout",
     "output_type": "stream",
     "text": [
      "{2010: 6, 2011: 6, 2012: 6, 2013: 4, 2014: 4, 2008: 2, 2009: 2}\n",
      "12\n"
     ]
    }
   ],
   "source": [
    "year_count = {}\n",
    "for c in class_number_list:\n",
    "    for y in range(c.start, c.end+1):\n",
    "        if y not in year_count:\n",
    "            year_count[y] = c.size\n",
    "        else:\n",
    "            year_count[y] += c.size\n",
    "\n",
    "print(year_count)\n",
    "max_class_number = 0\n",
    "for y in sorted(year_count):\n",
    "    if y+1 in year_count:\n",
    "        max_class_number = max(max_class_number, year_count[y] + year_count[y+1])\n",
    "\n",
    "print(max_class_number)"
   ]
  },
  {
   "cell_type": "code",
   "execution_count": 19,
   "metadata": {},
   "outputs": [
    {
     "data": {
      "text/plain": [
       "[2008, 2009, 2013, 2014, 2010, 2011, 2012]"
      ]
     },
     "execution_count": 19,
     "metadata": {},
     "output_type": "execute_result"
    }
   ],
   "source": [
    "sorted(year_count, key = year_count.get)"
   ]
  },
  {
   "cell_type": "code",
   "execution_count": 22,
   "metadata": {},
   "outputs": [],
   "source": [
    "def find_max_class_number(courses):\n",
    "\n",
    "    year_classes = {}\n",
    "    for (name, size, start, end) in courses:\n",
    "        for y in range(start, end+1):\n",
    "            year_classes[y] = year_classes.get(y, 0) + size\n",
    "        \n",
    "    all_years = sorted(year_classes)\n",
    "    max_total = 0\n",
    "    for y in all_years:\n",
    "        max_total = max(max_total, year_classes.get(y, 0) + year_classes.get(y+1,0))\n",
    "    \n",
    "    return max_total"
   ]
  },
  {
   "cell_type": "code",
   "execution_count": 24,
   "metadata": {},
   "outputs": [
    {
     "name": "stdout",
     "output_type": "stream",
     "text": [
      "12\n"
     ]
    }
   ],
   "source": [
    "courses = [('chemistry', 4, 2010, 2014), ('math', 2, 2008, 2012)]\n",
    "print(find_max_class_number(courses))"
   ]
  },
  {
   "cell_type": "markdown",
   "metadata": {},
   "source": [
    "Friendship Matrix: Calculate how many people see a post after N reposts based on a friendship matrix."
   ]
  },
  {
   "cell_type": "code",
   "execution_count": 28,
   "metadata": {},
   "outputs": [],
   "source": [
    "from collections import deque\n",
    "\n",
    "def count_repost(friends_matrix, N, start_user):\n",
    "    seen = set([start_user])\n",
    "    queue = deque([start_user])\n",
    "    M = len(friends_matrix)\n",
    "\n",
    "    for i in range(N):\n",
    "        next_queue = deque()\n",
    "\n",
    "        while queue:\n",
    "            current_user = queue.popleft()\n",
    "            # check all the friends of current user and add to queue\n",
    "            for j in range(M):\n",
    "                if friends_matrix[j][current_user] == 1 and j not in seen:\n",
    "                    seen.add(j)\n",
    "                    next_queue.append(j)\n",
    "        \n",
    "        queue = next_queue\n",
    "\n",
    "    return len(seen)\n"
   ]
  },
  {
   "cell_type": "code",
   "execution_count": 29,
   "metadata": {},
   "outputs": [
    {
     "data": {
      "text/plain": [
       "3"
      ]
     },
     "execution_count": 29,
     "metadata": {},
     "output_type": "execute_result"
    }
   ],
   "source": [
    "friends_matrix = [[1,1,0], [1,1,1], [0,1,1]]\n",
    "N = 5 # repost number \n",
    "start_user = 0\n",
    "count_repost(friends_matrix, N, start_user)"
   ]
  },
  {
   "cell_type": "markdown",
   "metadata": {},
   "source": [
    "### Edge Case Consideration"
   ]
  },
  {
   "cell_type": "code",
   "execution_count": 47,
   "metadata": {},
   "outputs": [],
   "source": [
    "# list average\n",
    "def calculate_list_average(input_list):\n",
    "\n",
    "    if type(input_list) != list:\n",
    "        return \"input list type error\"\n",
    "\n",
    "    if len(input_list) == 0:\n",
    "        return \"empty input list\"\n",
    "    \n",
    "    total = 0\n",
    "    for i in range(len(input_list)):\n",
    "        try:\n",
    "            total += input_list[i]\n",
    "        except Exception as e:\n",
    "            print(f\"Error occurred in calculation: {e}\")\n",
    "\n",
    "    return total / len(input_list)"
   ]
  },
  {
   "cell_type": "code",
   "execution_count": 52,
   "metadata": {},
   "outputs": [
    {
     "name": "stdout",
     "output_type": "stream",
     "text": [
      "2.5\n",
      "empty input list\n",
      "input list type error\n",
      "Error occurred in calculation: unsupported operand type(s) for +=: 'int' and 'str'\n",
      "1.5\n"
     ]
    }
   ],
   "source": [
    "print(calculate_list_average([1,2,3,4]))\n",
    "print(calculate_list_average([]))\n",
    "print(calculate_list_average(None))\n",
    "print(calculate_list_average([1,2,3,'4']))"
   ]
  },
  {
   "cell_type": "code",
   "execution_count": 53,
   "metadata": {},
   "outputs": [],
   "source": [
    "## buy maximum number of unique books given the fixed budget\n",
    "## input: a list of prices, budget. return an integer max_num_of_books\n",
    "\n",
    "def max_num_books(price_list, budget):\n",
    "    sorted_price_list = sorted(price_list)\n",
    "\n",
    "    for idx, p in enumerate(sorted_price_list):\n",
    "        budget -= p \n",
    "        if budget < 0:\n",
    "            return idx\n",
    "    \n",
    "    return len(price_list)\n"
   ]
  },
  {
   "cell_type": "code",
   "execution_count": 55,
   "metadata": {},
   "outputs": [],
   "source": [
    "## input: list of book titles. return list of titles having prefix in the list\n",
    "## ['python','python 2nd edition', 'greed tree', 'greed tree 2nd edition'] -> ['python 2nd edition', 'greed tree 2nd edition']\n",
    "## assume all the titles in the list are unique.\n",
    "\n",
    "def find_prefix(book_list):\n",
    "    book_list = sorted(book_list)\n",
    "    result = []\n",
    "    prefix = ''\n",
    "    for i in range(len(book_list)):\n",
    "        if len(prefix) > 0 and book_list[i].startswith(prefix):\n",
    "            result.append(book_list[i])\n",
    "        else:\n",
    "            prefix = book_list[i]\n",
    "\n",
    "    return result"
   ]
  },
  {
   "cell_type": "code",
   "execution_count": 78,
   "metadata": {},
   "outputs": [
    {
     "name": "stdout",
     "output_type": "stream",
     "text": [
      "['greed tree 2nd edition', 'python 2nd edition']\n",
      "['python 3', 'python new']\n"
     ]
    }
   ],
   "source": [
    "print(find_prefix(['python','python 2nd edition', 'greed tree', 'greed tree 2nd edition']))\n",
    "print(find_prefix(['python','python new','python 3','java', 'new java']))"
   ]
  },
  {
   "cell_type": "code",
   "execution_count": 75,
   "metadata": {},
   "outputs": [],
   "source": [
    "# input: a list of tuples [(price, sales)] (not a dictionary), an integer n. return book with the nth highest sales\n",
    "# order by sales in descending order, like dense_rank in SQL.\n",
    "\n",
    "def sales_rank(sales_list, N):\n",
    "    all_sales_map = defaultdict(list)\n",
    "\n",
    "    for i in sales_list:\n",
    "        sales = i[1]\n",
    "        price = i[0]\n",
    "        all_sales_map[sales].append(price)\n",
    "\n",
    "    nth_sales = sorted(all_sales_map, reverse = True)[N-1]\n",
    "\n",
    "    return min(all_sales_map[nth_sales])"
   ]
  },
  {
   "cell_type": "code",
   "execution_count": 76,
   "metadata": {},
   "outputs": [
    {
     "data": {
      "text/plain": [
       "15"
      ]
     },
     "execution_count": 76,
     "metadata": {},
     "output_type": "execute_result"
    }
   ],
   "source": [
    "sales_list = [(10, 15), (30,12), (20, 12), (40, 8), (15, 8), (50, 7)]\n",
    "sales_rank(sales_list, 3)"
   ]
  },
  {
   "cell_type": "code",
   "execution_count": null,
   "metadata": {},
   "outputs": [],
   "source": []
  },
  {
   "cell_type": "code",
   "execution_count": null,
   "metadata": {},
   "outputs": [],
   "source": []
  }
 ],
 "metadata": {
  "kernelspec": {
   "display_name": "Python 3",
   "language": "python",
   "name": "python3"
  },
  "language_info": {
   "codemirror_mode": {
    "name": "ipython",
    "version": 3
   },
   "file_extension": ".py",
   "mimetype": "text/x-python",
   "name": "python",
   "nbconvert_exporter": "python",
   "pygments_lexer": "ipython3",
   "version": "3.11.6"
  }
 },
 "nbformat": 4,
 "nbformat_minor": 2
}
