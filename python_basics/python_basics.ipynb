{
 "cells": [
  {
   "cell_type": "markdown",
   "metadata": {},
   "source": [
    "### Dictionary"
   ]
  },
  {
   "cell_type": "markdown",
   "metadata": {},
   "source": [
    "#### Loop through the dictionaries"
   ]
  },
  {
   "cell_type": "code",
   "execution_count": 8,
   "metadata": {},
   "outputs": [
    {
     "name": "stdout",
     "output_type": "stream",
     "text": [
      "a\n",
      "b\n",
      "c\n",
      "a\n",
      "b\n",
      "c\n",
      "1\n",
      "2\n",
      "3\n",
      "key-value:  a 1\n",
      "key-value:  b 2\n",
      "key-value:  c 3\n"
     ]
    }
   ],
   "source": [
    "my_dict = {'a': 1, 'b': 2, 'c': 3}\n",
    "\n",
    "for key in my_dict:\n",
    "    print(key)\n",
    "\n",
    "for key in my_dict.keys():\n",
    "    print(key)\n",
    "\n",
    "for value in my_dict.values():\n",
    "    print(value)\n",
    "\n",
    "for k, v in my_dict.items():\n",
    "    print(\"key-value: \", k, v)"
   ]
  },
  {
   "cell_type": "markdown",
   "metadata": {},
   "source": [
    "#### Get the key with max value"
   ]
  },
  {
   "cell_type": "code",
   "execution_count": null,
   "metadata": {},
   "outputs": [
    {
     "name": "stdout",
     "output_type": "stream",
     "text": [
      "banana\n"
     ]
    }
   ],
   "source": [
    "# get the key with max value\n",
    "## my_dict.get is passed as the key function to max(), so it compares based on values.\n",
    "my_dict = {\n",
    "    'apple': 10,\n",
    "    'banana': 25,\n",
    "    'date': 17\n",
    "}\n",
    "max_key = max(my_dict, key = my_dict.get)\n",
    "print(max_key)"
   ]
  },
  {
   "cell_type": "code",
   "execution_count": 10,
   "metadata": {},
   "outputs": [
    {
     "name": "stdout",
     "output_type": "stream",
     "text": [
      "banana\n"
     ]
    }
   ],
   "source": [
    "# get the keys with max value using sorted()\n",
    "my_dict = {\n",
    "    'apple': 10,\n",
    "    'banana': 25,\n",
    "    'date': 17\n",
    "}\n",
    "\n",
    "res = sorted(my_dict, key=my_dict.get, reverse=True)[0]\n",
    "print(res)"
   ]
  },
  {
   "cell_type": "code",
   "execution_count": 3,
   "metadata": {},
   "outputs": [
    {
     "name": "stdout",
     "output_type": "stream",
     "text": [
      "['banana', 'cherry']\n"
     ]
    }
   ],
   "source": [
    "# get the keys with max value\n",
    "my_dict = {\n",
    "    'apple': 10,\n",
    "    'banana': 25,\n",
    "    'cherry': 25,\n",
    "    'date': 17\n",
    "}\n",
    "\n",
    "def keys_with_max_values(d):\n",
    "    if not d:\n",
    "        return []\n",
    "    \n",
    "    max_val = max(d.values())\n",
    "    return [k for k, v in d.items() if v == max_val]\n",
    "\n",
    "max_keys = keys_with_max_values(my_dict)\n",
    "print(max_keys)"
   ]
  }
 ],
 "metadata": {
  "kernelspec": {
   "display_name": "Python 3",
   "language": "python",
   "name": "python3"
  },
  "language_info": {
   "codemirror_mode": {
    "name": "ipython",
    "version": 3
   },
   "file_extension": ".py",
   "mimetype": "text/x-python",
   "name": "python",
   "nbconvert_exporter": "python",
   "pygments_lexer": "ipython3",
   "version": "3.11.6"
  }
 },
 "nbformat": 4,
 "nbformat_minor": 2
}
